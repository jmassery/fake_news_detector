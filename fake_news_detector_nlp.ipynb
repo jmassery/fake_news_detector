{
  "nbformat": 4,
  "nbformat_minor": 0,
  "metadata": {
    "colab": {
      "name": "fake_news_detector_nlp.ipynb",
      "provenance": [],
      "collapsed_sections": [],
      "authorship_tag": "ABX9TyOUR75YNqVQgaR68ZsxT3n6",
      "include_colab_link": true
    },
    "kernelspec": {
      "name": "python3",
      "display_name": "Python 3"
    },
    "language_info": {
      "name": "python"
    },
    "accelerator": "GPU"
  },
  "cells": [
    {
      "cell_type": "markdown",
      "metadata": {
        "id": "view-in-github",
        "colab_type": "text"
      },
      "source": [
        "<a href=\"https://colab.research.google.com/github/jmassery/fake_news_detector/blob/main/fake_news_detector_nlp.ipynb\" target=\"_parent\"><img src=\"https://colab.research.google.com/assets/colab-badge.svg\" alt=\"Open In Colab\"/></a>"
      ]
    },
    {
      "cell_type": "markdown",
      "metadata": {
        "id": "jKHeUDpSbv07"
      },
      "source": [
        "# Predicting Fake News\n",
        "\n",
        "In this notebook, I am going to build multiple models to detect the validity of news articles. \n",
        "\n",
        "## Problem Definition\n",
        "Create an NLP model to classify news articles as REAL or FAKE\n",
        "\n",
        "> Do you trust all the news you hear from social media? All news are not real, right? How will you detect fake news?\n",
        "\n",
        "## Features\n",
        "1.  Unnamed: 0 - Identifies the news\n",
        "2. title - title of the news article\n",
        "3. text - text within the article\n",
        "4. label - REAL or FAKE, the predicted attribute"
      ]
    },
    {
      "cell_type": "markdown",
      "metadata": {
        "id": "KdGc38-ReWGE"
      },
      "source": [
        "## Preparing the tools"
      ]
    },
    {
      "cell_type": "code",
      "metadata": {
        "colab": {
          "base_uri": "https://localhost:8080/"
        },
        "id": "C7XWOAq2r3LQ",
        "outputId": "e9f42783-caea-4e85-b28e-146b7ec61c9a"
      },
      "source": [
        "# Confirm access to a GPU\n",
        "!nvidia-smi -L"
      ],
      "execution_count": 1,
      "outputs": [
        {
          "output_type": "stream",
          "name": "stdout",
          "text": [
            "GPU 0: Tesla K80 (UUID: GPU-214c8a9e-79d0-dc51-ae1f-c1db25bba9fc)\n"
          ]
        }
      ]
    },
    {
      "cell_type": "code",
      "metadata": {
        "id": "BkUjY972s_cU"
      },
      "source": [
        "# data analysis and wrangling\n",
        "import os\n",
        "import random\n",
        "import pandas as pd\n",
        "import numpy as np\n",
        "\n",
        "# visualization and preprocessing\n",
        "import matplotlib.pyplot as plt\n",
        "import string\n",
        "from sklearn.preprocessing import OneHotEncoder, LabelEncoder\n",
        "from tensorflow.keras.layers.experimental.preprocessing import TextVectorization\n",
        "\n",
        "# modeling\n",
        "import tensorflow as tf\n",
        "import tensorflow_hub as hub\n",
        "from tensorflow.keras import layers\n",
        "from sklearn.model_selection import train_test_split\n",
        "from sklearn.feature_extraction.text import TfidfVectorizer\n",
        "from sklearn.naive_bayes import MultinomialNB\n",
        "from sklearn.pipeline import Pipeline"
      ],
      "execution_count": 2,
      "outputs": []
    },
    {
      "cell_type": "markdown",
      "metadata": {
        "id": "5OozJuw-uL9I"
      },
      "source": [
        "## Get Data"
      ]
    },
    {
      "cell_type": "code",
      "metadata": {
        "colab": {
          "base_uri": "https://localhost:8080/"
        },
        "id": "5gaazM7bxGMD",
        "outputId": "0bc2bf04-3bc0-47c1-be0f-b9a49248fb9f"
      },
      "source": [
        "import zipfile\n",
        "\n",
        "# Download data\n",
        "!wget https://drive.google.com/u/0/uc?id=1er9NJTLUA3qnRuyhfzuN0XUsoIC4a-_q&export=download\n",
        "\n",
        "# Unzip downloaded file\n",
        "zip_ref = zipfile.ZipFile(\"/content/uc?id=1er9NJTLUA3qnRuyhfzuN0XUsoIC4a-_q\", \"r\")\n",
        "zip_ref.extractall()\n",
        "zip_ref.close()"
      ],
      "execution_count": 3,
      "outputs": [
        {
          "output_type": "stream",
          "name": "stdout",
          "text": [
            "--2021-09-10 18:01:09--  https://drive.google.com/u/0/uc?id=1er9NJTLUA3qnRuyhfzuN0XUsoIC4a-_q\n",
            "Resolving drive.google.com (drive.google.com)... 108.177.15.138, 108.177.15.139, 108.177.15.113, ...\n",
            "Connecting to drive.google.com (drive.google.com)|108.177.15.138|:443... connected.\n",
            "HTTP request sent, awaiting response... 302 Moved Temporarily\n",
            "Location: https://doc-0c-0g-docs.googleusercontent.com/docs/securesc/ha0ro937gcuc7l7deffksulhg5h7mbp1/1hu2hcere84ei004tup6g1c2jeu8l26o/1631296875000/02765671032511850754/*/1er9NJTLUA3qnRuyhfzuN0XUsoIC4a-_q [following]\n",
            "Warning: wildcards not supported in HTTP.\n",
            "--2021-09-10 18:01:15--  https://doc-0c-0g-docs.googleusercontent.com/docs/securesc/ha0ro937gcuc7l7deffksulhg5h7mbp1/1hu2hcere84ei004tup6g1c2jeu8l26o/1631296875000/02765671032511850754/*/1er9NJTLUA3qnRuyhfzuN0XUsoIC4a-_q\n",
            "Resolving doc-0c-0g-docs.googleusercontent.com (doc-0c-0g-docs.googleusercontent.com)... 64.233.166.132, 2a00:1450:400c:c09::84\n",
            "Connecting to doc-0c-0g-docs.googleusercontent.com (doc-0c-0g-docs.googleusercontent.com)|64.233.166.132|:443... connected.\n",
            "HTTP request sent, awaiting response... 200 OK\n",
            "Length: unspecified [application/x-zip-compressed]\n",
            "Saving to: ‘uc?id=1er9NJTLUA3qnRuyhfzuN0XUsoIC4a-_q’\n",
            "\n",
            "uc?id=1er9NJTLUA3qn     [  <=>               ]  11.25M  23.3MB/s    in 0.5s    \n",
            "\n",
            "2021-09-10 18:01:17 (23.3 MB/s) - ‘uc?id=1er9NJTLUA3qnRuyhfzuN0XUsoIC4a-_q’ saved [11792641]\n",
            "\n"
          ]
        }
      ]
    },
    {
      "cell_type": "markdown",
      "metadata": {
        "id": "TzGGVlT7wJii"
      },
      "source": [
        "## Visualize data\n",
        "\n",
        "Since the data is already in a .csv and not a .txt, use pandas for visualization."
      ]
    },
    {
      "cell_type": "code",
      "metadata": {
        "colab": {
          "base_uri": "https://localhost:8080/",
          "height": 203
        },
        "id": "iMqvwrX6yjSr",
        "outputId": "d7434c53-95ca-47d5-fd77-2c2fb3c2bc13"
      },
      "source": [
        "news_df = pd.read_csv(\"news.csv\")\n",
        "news_df.head()"
      ],
      "execution_count": 4,
      "outputs": [
        {
          "output_type": "execute_result",
          "data": {
            "text/html": [
              "<div>\n",
              "<style scoped>\n",
              "    .dataframe tbody tr th:only-of-type {\n",
              "        vertical-align: middle;\n",
              "    }\n",
              "\n",
              "    .dataframe tbody tr th {\n",
              "        vertical-align: top;\n",
              "    }\n",
              "\n",
              "    .dataframe thead th {\n",
              "        text-align: right;\n",
              "    }\n",
              "</style>\n",
              "<table border=\"1\" class=\"dataframe\">\n",
              "  <thead>\n",
              "    <tr style=\"text-align: right;\">\n",
              "      <th></th>\n",
              "      <th>Unnamed: 0</th>\n",
              "      <th>title</th>\n",
              "      <th>text</th>\n",
              "      <th>label</th>\n",
              "    </tr>\n",
              "  </thead>\n",
              "  <tbody>\n",
              "    <tr>\n",
              "      <th>0</th>\n",
              "      <td>8476</td>\n",
              "      <td>You Can Smell Hillary’s Fear</td>\n",
              "      <td>Daniel Greenfield, a Shillman Journalism Fello...</td>\n",
              "      <td>FAKE</td>\n",
              "    </tr>\n",
              "    <tr>\n",
              "      <th>1</th>\n",
              "      <td>10294</td>\n",
              "      <td>Watch The Exact Moment Paul Ryan Committed Pol...</td>\n",
              "      <td>Google Pinterest Digg Linkedin Reddit Stumbleu...</td>\n",
              "      <td>FAKE</td>\n",
              "    </tr>\n",
              "    <tr>\n",
              "      <th>2</th>\n",
              "      <td>3608</td>\n",
              "      <td>Kerry to go to Paris in gesture of sympathy</td>\n",
              "      <td>U.S. Secretary of State John F. Kerry said Mon...</td>\n",
              "      <td>REAL</td>\n",
              "    </tr>\n",
              "    <tr>\n",
              "      <th>3</th>\n",
              "      <td>10142</td>\n",
              "      <td>Bernie supporters on Twitter erupt in anger ag...</td>\n",
              "      <td>— Kaydee King (@KaydeeKing) November 9, 2016 T...</td>\n",
              "      <td>FAKE</td>\n",
              "    </tr>\n",
              "    <tr>\n",
              "      <th>4</th>\n",
              "      <td>875</td>\n",
              "      <td>The Battle of New York: Why This Primary Matters</td>\n",
              "      <td>It's primary day in New York and front-runners...</td>\n",
              "      <td>REAL</td>\n",
              "    </tr>\n",
              "  </tbody>\n",
              "</table>\n",
              "</div>"
            ],
            "text/plain": [
              "   Unnamed: 0  ... label\n",
              "0        8476  ...  FAKE\n",
              "1       10294  ...  FAKE\n",
              "2        3608  ...  REAL\n",
              "3       10142  ...  FAKE\n",
              "4         875  ...  REAL\n",
              "\n",
              "[5 rows x 4 columns]"
            ]
          },
          "metadata": {},
          "execution_count": 4
        }
      ]
    },
    {
      "cell_type": "code",
      "metadata": {
        "id": "l3_wr8HK0DXT"
      },
      "source": [
        "# The data looks mixed, but shuffle just to be safe\n",
        "news_df_shuffled = news_df.sample(frac=1, random_state=42)"
      ],
      "execution_count": 5,
      "outputs": []
    },
    {
      "cell_type": "code",
      "metadata": {
        "colab": {
          "base_uri": "https://localhost:8080/"
        },
        "id": "WmEcyOTdzCC4",
        "outputId": "2f7d5c15-65d0-4c55-fc71-8e7be10d873f"
      },
      "source": [
        "# How many examples of each class\n",
        "news_df_shuffled.label.value_counts()"
      ],
      "execution_count": 6,
      "outputs": [
        {
          "output_type": "execute_result",
          "data": {
            "text/plain": [
              "REAL    3171\n",
              "FAKE    3164\n",
              "Name: label, dtype: int64"
            ]
          },
          "metadata": {},
          "execution_count": 6
        }
      ]
    },
    {
      "cell_type": "code",
      "metadata": {
        "colab": {
          "base_uri": "https://localhost:8080/"
        },
        "id": "I06uUEHSzT2W",
        "outputId": "5c246bf4-b05a-4c1d-f622-c0f4f202368a"
      },
      "source": [
        "# Visualize random examples\n",
        "random_index = random.randint(0, len(news_df)-3)\n",
        "for row in news_df_shuffled[[\"text\", \"label\"]][random_index:random_index+3].itertuples():\n",
        "  _, text, label = row\n",
        "  print(f\"Label: {label}\")\n",
        "  print(f\"Text:\\n{text}\\n\")\n",
        "  print(\"---\\n\")"
      ],
      "execution_count": 7,
      "outputs": [
        {
          "output_type": "stream",
          "name": "stdout",
          "text": [
            "Label: FAKE\n",
            "Text:\n",
            "Next Swipe left/right Colin is looking for a songwriting partner Fancy getting into the music business but need a good lyricist to work with? Colin has written songs about dolphins, Giant Haystacks and Hitler.\n",
            "\n",
            "---\n",
            "\n",
            "Label: REAL\n",
            "Text:\n",
            "The Democratic frontrunner won decisively to take a stranglehold on the race despite all of Sanders’s rallies and celebrity endorsements.\n",
            "\n",
            "Sanders spent the week sowing the seeds of doubt within Clinton’s coalition—blistering her for her association with Wall Street, holding a series of mega-rallies, collecting a host of celebrity endorsements, and out-spending her by 2-1 on TV ads.\n",
            "\n",
            "\n",
            "\n",
            "He needed a win, or a very close finish, to maintain the momentum in his unlikely bid to upset Clinton, but the Brooklyn native was defeated by more than 15 points.\n",
            "\n",
            "“Victory is in sight!” declared Clinton at a New York rally. Staffers near the back of the room hugged each other—visibly relieved that this particularly ugly part of the primary campaign had concluded.\n",
            "\n",
            "The Democratic race had taken a turn for the combative in New York—a family feud that played out in prime time last week during the debate in Brooklyn.\n",
            "\n",
            "At about a quarter to 10, “Another One Bites the Dust” blasted through the Sheraton ballroom—at the same moment Clinton tweeted her thanks to New York for electing her statewide yet again. With 98 percent of the precincts declared, she was leading 57.9 percent to 42.1 percent.\n",
            "\n",
            "\n",
            "\n",
            "Clinton even tried to knock the assumption that the Sanders campaign had a monopoly on excitement. “Tonight I want to say to all of my supporters and all of the voters: You have carried us every step of the way with passion and conviction that some critics have tried to dismiss,” she said, a campaign version of a “We’ve Got Spirit” taunt.\n",
            "\n",
            "After days of massive, confidence-boosting rallies, most Sanders supporters were were likely in no mood to listen, but Clinton also tried to reach out. “I believe there is much more that unites us than divides us,” she said.\n",
            "\n",
            "\n",
            "\n",
            "Judging by Sanders’s fundraising email blast as the results came in, the Vermont senator is not about to give up and unite behind the frontrunner.\n",
            "\n",
            "\n",
            "\n",
            "“Sisters and Brothers,” it began. “We didn’t get the victory we had hoped for this evening, but what’s important is that it looks like we’re going to win a lot more delegates in New York than any state that voted or caucused before tonight.”\n",
            "\n",
            "He entered to Frank Sinatra’s “New York, New York,” bathed in the red and blue lights that have decorated each of his victory speeches to date. He shook hands and hugged bystanders before taking to the lectern, surrounded by his family and friends like Carl Paladino, the failed gubernatorial candidate.\n",
            "\n",
            "Ten months ago, on June 16, Trump was in this very room. In what he now believes to be an iconic scene, he came down the escalator with his wife, Melania, and into a sea of reporters and paid extras pretending to be fervent fans. Back then he seemed like a sideshow, and Beltway analysts and pundits predicted he would fizzle out quickly.\n",
            "\n",
            "This time the escalator was frozen. His fans stood on it and peered down at him as he spoke. He had just won his 20th contest—with more than 60 percent of the vote—and added to his substantial delegate lead, on his way to the 1,237 needed to secure the Republican nomination.\n",
            "\n",
            "The event was billed as a “press conference” by Trump’s campaign, but he didn’t take any questions, instead giving a condensed version of his stump speech that focused primarily on jobs. He promised not just to Make America Great Again, but to make it “really, legitimately, so great.”\n",
            "\n",
            "“We’re going to go into the convention, I think, as a winner—and nobody can take an election away the way they’re doing it in the Republican Party,” he said.\n",
            "\n",
            "---\n",
            "\n",
            "Label: REAL\n",
            "Text:\n",
            "It would not surprise me if, at the next Republican National Convention, Benjamin Netanyahu took a seat in the delegates-from-abroad section. The Israeli leader has both allied and associated himself with congressional Republicans who differ with President Obama over whether to impose additional sanctions on Iran and who also — let’s not beat around the bush — hate his guts. Their foreign policy is actually a domestic one: to destroy the president.\n",
            "\n",
            "Whether this is political or personal — or a combination of the two — is beside the point. Whatever the case, when Netanyahu accepted John Boehner’s invitation to address a joint session of Congress in March, he did so without informing the White House. Boehner, too, bypassed the White House. As a result, Netanyahu will come and go and not meet with the president.\n",
            "\n",
            "Boehner insists that, as speaker of the House, he has the standing to issue an invitation to a foreign leader on his own. That’s debatable. He is, after all, elected by the Republican caucus, not by the full House and not, significantly, by the American people. He knew what this invitation would look like. This is high school stuff, a stunt unworthy of even Newt Gingrich.\n",
            "\n",
            "I stand with the president on this sanctions matter. Additional sanctions may drive the Iranians from the table. The Europeans may go with them. Let’s give the talks some more time.\n",
            "\n",
            "I stand with Netanyahu in worrying about a president who has been awfully twitchy in his foreign policy. His faux threat to take Syria to task if it used chemical weapons in its civil war — the famous “red line” — turned out to be a red-faced embarrassment. It has cost Obama much more than it cost Bashar al-Assad.\n",
            "\n",
            "But what concerns me most is how Netanyahu threatens to harm the bipartisan understanding and support of Israel. The prime minister has never been able to hide his disdain for Obama. In May 2011, he made Obama squirm before the TV cameras as he lectured him about Middle East matters in the Oval Office. It was, simply, no way to treat the president of the United States.\n",
            "\n",
            "Accepting Boehner’s invitation sent the same message of contempt. I know Netanyahu sees the Iranian nuclear program as an existential threat to Israel, but that does not excuse his boorish manners. I am an ardent supporter of Israel, but I am also an American: Do not insult my president!\n",
            "\n",
            "My feelings, however, are immaterial. What matters above all is the possibility that support of Israel will become a partisan political issue in the United States. It may come as a surprise, but Zionism was once beloved by the American and European left. (The British Labour Party even supported transferring Palestinians out of what is now Israel — a policy that changed once Labour got to govern.) Now, though, the European left has abandoned Israel, adoring the Palestinian cause with a striking naivete.\n",
            "\n",
            "The American left is not quite as robustly anti-Israel, but the trend is unmistakable. Even some American Jews — especially the younger generation — are either cooler toward Israel or indifferent. The Holocaust has faded as an emotional rallying point, and with both an intermarriage rate well over 50 percent and a declining population, the American Jewish community is both contracting and, inevitably, losing clout. For many young Jews as well as non-Jews, Israel’s right-wing government is hardly attractive. It’s been many years since Harry Belafonte sang “Hava Nagila.”\n",
            "\n",
            "A generation of Americans who support gay rights, same-sex marriage and reproductive freedom and who fear global warming are going to wonder about an Israeli prime minister who embraces a speaker of the House who personifies all they loathe. Israel should not become yet another right-wing issue, joining such bizarre causes as the right to pollute the atmosphere or to turn millions of immigrants into fugitives.\n",
            "\n",
            "Going back to the very formation of the state, Israel has enjoyed deep bipartisan support in America — neither a Republican nor Democratic issue. There’s no mystery here. Israel is a democracy, a beleaguered one at that, whose creation is yet another desert miracle. Its cinematic virtues are manifest. It’s a great story.\n",
            "\n",
            "Now, though, some damage has been done. Netanyahu will come and speak to Congress and make his case — the one he has made time and time again — for additional sanctions on Iran. But if, in the end, action needs to be taken against Iran, Israel will need the support of all Americans. He has, with his impetuousness and contempt, made that harder to get.\n",
            "\n",
            "---\n",
            "\n"
          ]
        }
      ]
    },
    {
      "cell_type": "markdown",
      "metadata": {
        "id": "bflFKhV-zfZW"
      },
      "source": [
        "### Split data into training, validation, and test sets"
      ]
    },
    {
      "cell_type": "code",
      "metadata": {
        "colab": {
          "base_uri": "https://localhost:8080/",
          "height": 203
        },
        "id": "-A-KH6in2pjq",
        "outputId": "b4f07cdc-8ba3-4b2d-fe4c-5115b57faa6e"
      },
      "source": [
        "# Change label to be either 0 (FAKE) or 1 (REAL)\n",
        "news_df_shuffled.label = news_df_shuffled.label.map({'FAKE': 0, 'REAL': 1}).astype(int)\n",
        "\n",
        "news_df_shuffled.head()"
      ],
      "execution_count": 8,
      "outputs": [
        {
          "output_type": "execute_result",
          "data": {
            "text/html": [
              "<div>\n",
              "<style scoped>\n",
              "    .dataframe tbody tr th:only-of-type {\n",
              "        vertical-align: middle;\n",
              "    }\n",
              "\n",
              "    .dataframe tbody tr th {\n",
              "        vertical-align: top;\n",
              "    }\n",
              "\n",
              "    .dataframe thead th {\n",
              "        text-align: right;\n",
              "    }\n",
              "</style>\n",
              "<table border=\"1\" class=\"dataframe\">\n",
              "  <thead>\n",
              "    <tr style=\"text-align: right;\">\n",
              "      <th></th>\n",
              "      <th>Unnamed: 0</th>\n",
              "      <th>title</th>\n",
              "      <th>text</th>\n",
              "      <th>label</th>\n",
              "    </tr>\n",
              "  </thead>\n",
              "  <tbody>\n",
              "    <tr>\n",
              "      <th>1357</th>\n",
              "      <td>9957</td>\n",
              "      <td>American Dream, Revisited</td>\n",
              "      <td>Will Trump pull a Brexit times ten? What would...</td>\n",
              "      <td>0</td>\n",
              "    </tr>\n",
              "    <tr>\n",
              "      <th>2080</th>\n",
              "      <td>7596</td>\n",
              "      <td>Clintons Are Under Multiple FBI Investigations...</td>\n",
              "      <td>Clintons Are Under Multiple FBI Investigations...</td>\n",
              "      <td>0</td>\n",
              "    </tr>\n",
              "    <tr>\n",
              "      <th>2718</th>\n",
              "      <td>8905</td>\n",
              "      <td>The FBI Can’t Actually Investigate a Candidate...</td>\n",
              "      <td>Dispatches from Eric Zuesse This piece is cros...</td>\n",
              "      <td>0</td>\n",
              "    </tr>\n",
              "    <tr>\n",
              "      <th>812</th>\n",
              "      <td>8752</td>\n",
              "      <td>Confirmed: Public overwhelmingly (10-to-1) say...</td>\n",
              "      <td>Print \\n[Ed. – Every now and then the facade c...</td>\n",
              "      <td>0</td>\n",
              "    </tr>\n",
              "    <tr>\n",
              "      <th>4886</th>\n",
              "      <td>7804</td>\n",
              "      <td>Nanny In Jail After Force Feeding Baby To Death</td>\n",
              "      <td>Nanny In Jail After Force Feeding Baby To Deat...</td>\n",
              "      <td>0</td>\n",
              "    </tr>\n",
              "  </tbody>\n",
              "</table>\n",
              "</div>"
            ],
            "text/plain": [
              "      Unnamed: 0  ... label\n",
              "1357        9957  ...     0\n",
              "2080        7596  ...     0\n",
              "2718        8905  ...     0\n",
              "812         8752  ...     0\n",
              "4886        7804  ...     0\n",
              "\n",
              "[5 rows x 4 columns]"
            ]
          },
          "metadata": {},
          "execution_count": 8
        }
      ]
    },
    {
      "cell_type": "code",
      "metadata": {
        "colab": {
          "base_uri": "https://localhost:8080/"
        },
        "id": "FI57HeQd1OBT",
        "outputId": "aa0f0347-fe34-4a3d-9066-bc1be7bd621f"
      },
      "source": [
        "# Create a test and training split\n",
        "split_size = int(0.8 * len(news_df_shuffled))\n",
        "\n",
        "news_train_df = news_df_shuffled[:split_size]\n",
        "news_test_df = news_df_shuffled[split_size:]\n",
        "\n",
        "len(news_train_df), len(news_test_df)"
      ],
      "execution_count": 9,
      "outputs": [
        {
          "output_type": "execute_result",
          "data": {
            "text/plain": [
              "(5068, 1267)"
            ]
          },
          "metadata": {},
          "execution_count": 9
        }
      ]
    },
    {
      "cell_type": "code",
      "metadata": {
        "id": "LPeO_Dwv4i-c"
      },
      "source": [
        "test_text = news_test_df[\"text\"].to_numpy()\n",
        "test_labels = news_test_df[\"label\"].to_numpy()"
      ],
      "execution_count": 10,
      "outputs": []
    },
    {
      "cell_type": "code",
      "metadata": {
        "id": "qFWAHgit9dv_"
      },
      "source": [
        "# Split training data in to train and validaiton sets\n",
        "train_text, val_text, train_labels, val_labels = train_test_split(news_train_df[\"text\"].to_numpy(),\n",
        "                                                                  news_train_df[\"label\"].to_numpy(),\n",
        "                                                                  test_size=0.2,\n",
        "                                                                  random_state=42)"
      ],
      "execution_count": 11,
      "outputs": []
    },
    {
      "cell_type": "code",
      "metadata": {
        "colab": {
          "base_uri": "https://localhost:8080/"
        },
        "id": "smqYE9CP-nNp",
        "outputId": "59d48d16-f30d-4f4c-8582-b0a627f29b9f"
      },
      "source": [
        "# Check the lengths\n",
        "len(train_text), len(val_text), len(train_labels), len(val_labels)"
      ],
      "execution_count": 12,
      "outputs": [
        {
          "output_type": "execute_result",
          "data": {
            "text/plain": [
              "(4054, 1014, 4054, 1014)"
            ]
          },
          "metadata": {},
          "execution_count": 12
        }
      ]
    },
    {
      "cell_type": "code",
      "metadata": {
        "colab": {
          "base_uri": "https://localhost:8080/"
        },
        "id": "Fg2p6ZoG_H1m",
        "outputId": "d124b961-dbce-4f30-e905-78a5c4e70a50"
      },
      "source": [
        "# Check the first few samples\n",
        "train_text[:3], train_labels[:3]"
      ],
      "execution_count": 13,
      "outputs": [
        {
          "output_type": "execute_result",
          "data": {
            "text/plain": [
              "(array(['opednews.com - Advertisement - \\nI have suggested elsewhere that if we want a better future we will have to create it out of whole cloth and intend that it be \\'for the highest and best good for all concerned and the planet\\'. \\nMost of us know that two things cannot occupy the same space at the same time. The time, space thing that is our planetary reality is occupied by dark, evil, powerful forces with no intention of moving aside to accommodate positive outcomes. \\nCarl Jung has noted that \"the opposite of love is not hate, it is power\". I get this. Love nourishes and empowers the object of its attention, power seeks dominion over what it notices, is destructive. We cannot confront this power and it would be karmically harmful to do so resulting in no change. \\nSo, the existent power, in play for 300,000 years, must \\'start\\' to break down before change is possible, to allow space for that change. If we want to be in control of that change we must be the dominate unified conscious intent during the breakdown of order and focus that positive intend toward a better future. \\nThe breakdown of order is in play right now in front of our eyes .It is remarkable and noteworthy that the U.S., the evil empire has leveled most of the Middle East, used depleted uranium weaponry in Iraq causing severe genetic damage to newborns for generations, has driven millions of hapless refugees into Europe and I hear no loud, clear voice screaming for them,us, to stop. I have just described an \\'end of times, type horror story the evil doers who run the U.S. are engaged in and plan to expand around the globe. They actually plan and promote the breakdown of order, the chaos out of which they expect to rise with an absolute grip on all power. They expect us to welcome this enslavement just to stop the pain and suffering they have caused us. Again, this madness is taking place right now in front of our eyes. \\nIf the decent and responsible among us organize now to be that dominate unified intent, the dominate consciousness , we would control the aftermath of the planned breakdown of order. Our rulers do not imagine us capable of this since we have behaved like victims who always attract and suffer victimizers to their lives. - Advertisement - \\nSo that\\'s it. We need about ten percent of us to to lightly hold the intent to create the new paradigm of existence and hold this vision while chaos descends around us. If this is an effort by \\'enough\\' of us we will prevail. The Law of Attraction, the first universal law will assist us and attract more positive energy than thought possible. The planet herself is considered a conscious being and would certainly direct all possible positive energy to our cause-her cause. As our energy grows the energy available to evil wanes. When they sense this their testicles will shrink! \\nFinally, no one need give their life to this cause rather a commitment to prevail not founded solely on self interest and a real sense of responsibility to humankind and the planet. \\nThe breakdown of order has begun.... - Advertisement -',\n",
              "        'Reuters \\nOn a rooftop overlooking the walls of Jerusalem’s Old City, around 200 American-Israeli fans of Donald Trump gathered to proclaim their support for the Republican candidate, convinced he will be Israel’s best friend if elected. \\nWearing “Make America Great Again” baseball caps, the small crowd, ranging from Holocaust survivors in their 80s to grinning teenagers in Trump t-shirts, said they didn’t care about the sexual assault allegations against the candidate or the online anti-Semitism of some of his supporters. \\n“Trump will let Israel be itself and make its own decisions, that’s what I like,” David Weissman, a 35-year-old from Queens, New York, who moved to Israel three years ago, said at the event late on Wednesday. \\n“He’s not a saint, but look at his achievements. He’s not afraid to identify the enemy as radical Islam, and he’s not going to support the two-state solution,” he said, referring to long-standing efforts to forge peace with the Palestinians. \\nTrump has said that the women who have accused him of sexual misconduct fabricated their stories to damage his campaign. \\nOthers at the rally said they liked the fact that Trump was promising to move the U.S. embassy from Tel Aviv to Jerusalem, officially recognizing Jerusalem as Israel’s capital, and would not berate Israel for building Jewish settlements in occupied territory. \\n“It’s very important that he becomes president,” said Connie Gordner, 82, who moved to Israel from Jacksonville, Florida, 21 years ago. “If Hillary Clinton becomes president, we’re dead.” \\nThe rally was organized by Republicans Overseas Israel, which estimates that there are 300,000 U.S. citizens living in Israel or in Jewish settlements in the West Bank and East Jerusalem, which the Palestinians seek for their own state. \\nEven if only a third of those cast absentee ballots, organizers believe it could have an impact in some swing states, come Nov. 8. Marc Zell, co-chairman of the non-profit group, believes around three-quarters of American-Israelis support the Republican party and its candidate. \\nIn an impassioned speech to the small crowd, David Friedman, Trump’s adviser on Israel, heaped criticism on Democratic candidate Hillary Clinton for her decisions as secretary of state and said Trump was Israel’s greatest hope. \\n“Under Trump, the United States will never pressure Israel into accepting a two-state solution or any other solution that is against the wishes of the Israeli people,” he said, to whoops, cheers and a few shouts of “Crooked Hillary”. \\nWhile the motley crowd was unabashed in its Trumpian fervor, polls indicate that most Jewish Israelis favor Clinton over Trump, by 40 percent to 31 percent. \\nThe critical element is American-Israelis who retain the right to vote in U.S. elections. Some estimates suggest more than a quarter of them live in settlements, which tend to have a more conservative, national-religious outlook. Trump’s messages have been designed to appeal to their sentiments. \\nOn Wednesday, he delivered a minute-long video to the rally, playing up his connections to Judaism through his daughter’s marriage, saying it enhanced his respect for the faith. \\n“My administration will stand side-by-side with the Jewish people and Israel’s leaders to continue strengthening the bridges that connect not only Jewish Americans and Israelis but also all Americans and Israelis,” he said. \\n“Together we will make America and Israel safe again.”',\n",
              "        \"The US and Cuba normalized relations one year ago Thursday. Small changes have begun to percolate, but there's debate over whether that's progress.\\n\\nHow SNL's 'the bubble' sketch about polarization is all too true\\n\\nLos Angeles Dodgers player Yasiel Puig, from Cuba, holds a young baseball player as he poses for photos before giving a baseball clinic to children in Havana, Cuba, Wednesday.\\n\\nWhen Yasiel Puig, the Los Angeles Dodgers rightfielder and Cuban defector, was able to return home for a baseball goodwill tour this week without fear of detention by Cuban authorities, it was a sure sign of progress a year into the normalization of relations between the United States and Cuba.\\n\\nSo is the expanded public Internet access that Cubans now enjoy, something the Cuban government agreed to as part of the deal struck between President Obama and Cuban President Raúl Castro a year ago Thursday.\\n\\nAnd so too is the agreement the two governments reached this week to resume direct commercial airline flights between the two neighboring countries for the first time in decades.\\n\\nBut for all that has changed in a year between the two longtime antagonists, much remains the same, both supporters and detractors of Mr. Obama’s opening to Cuba say.\\n\\nThe five-decade-old US economic embargo on Cuba remains, with little prospect of Congress lifting it anytime soon, while critics of normalization say the policy has yielded no improvement in the Communist government’s respect for human and political rights.\\n\\n“Certainly it was a big step forward and there was reason for the great elation last year when President Obama and Raúl Castro announced their intention to normalize relations, and we do have positive results to see from that,” says Wayne Smith, a former US diplomat in Cuba who is now a senior fellow of the Center for International Policy’s Cuba Project in Washington. “However it’s been something of a disappointment as well,” he adds, “mainly over the inability to lift the embargo.”\\n\\nNot just the embargo, but the status of the US military prison at Guantánamo Bay in Cuba and the resolution of property claims between the two sides dating from the Cuban revolution also loom as stumbling blocks, Mr. Smith says, “These big, complex issues have us somewhat stymied.”\\n\\nFor their part, opponents of renewed relations say the Cuban government’s continued disregard for human rights and political freedoms is the strongest argument against closer ties – and proof that no amount of concessions will prompt the Castro regime to change.\\n\\n“What we’ve seen instead of improvements is a huge spike in repression and in violence against the political opposition, repeated arrests of the same dissidents, and churches being shut down,” says Ana Quintana, a Latin America policy analyst at the Heritage Foundation in Washington. “Because the Obama administration awarded these renewed relations without demanding anything in return,” she adds, “the US has lost its position of leverage.”\\n\\nObama continues to call for an end to the embargo, which he considers a Cold War relic, but no one expects the Republican-controlled Congress to oblige him – particularly not in an election year.\\n\\nAs a result, analysts like Smith say they expect “official” change to continue slowly – even as a transformation in the relationship between the two countries accelerates as “people-to-people” contacts expand.\\n\\n“A Congress rushing to lift the embargo isn’t going to happen,” Smith says, “but already we’ve seen a notable impact on the personal relations between Cubans and Americans, and that’s going to continue.”\\n\\nMore Americans are traveling to Cuba – although the embargo still prevents them from visiting the island (and spending money) simply as tourists. Academic exchanges and “educational tours” are quickly expanding. At the same time, the improved public Wi-Fi availability in Cuba and eased travel restrictions for Cuban-Americans mean that contact between the island and Cuban communities in the US now is much like that for other immigrant communities from around the hemisphere.\\n\\nSome members of Congress marked the first anniversary of Obama’s opening to Cuba by hailing the impact of the “small steps” that Cubans and American have taken toward each other.\\n\\n“As American business leaders, scientists, academics, and artists are increasingly engaging in purposeful travel to Cuba, they are forging important new relationships with the Cuban people and supporting the country’s rising entrepreneurial class,” said Sen. Ben Cardin of Maryland, the top Democrat on the Foreign Relations Committee, in a statement Thursday.\\n\\nHe called on Congress to “take steps to make the Obama administration’s advances permanent and lift all restrictions on American citizens traveling to Cuba.”\\n\\nThere is also evidence that the normalization of bilateral relations has prompted a surge in Cubans migrating to the US. A widespread fear in Cuba that “normal” relations will prompt the US to soon drop the special immigration status for Cubans reaching the US has led nearly 50,000 island residents to leave for the US this year.\\xa0Cubans who reach US soil are allowed to stay and are granted residency, while those who are caught at sea are turned back. The number of Cubans arriving this year is more than double last year’s total – and about five times higher than in 2011.\\n\\nSenator Cardin said the normalization of relations has resulted in “small but important changes on the island.” But he noted that the government continues to jail political activists and restrict “the emergence of a free press,” and he called on the Cuban government to make “meaningful progress” in “the second year of renewed engagement.”\\n\\nCritics say there's no reason to expect Cuba to change.\\n\\n“A year of stepped-up attacks on the Cuban people’s freedoms should not leave anyone thinking that somehow there will be a positive transition in the second year” of renewed relations, says Ms. Quintana of Heritage.\\n\\nAs for the power of people-to-people engagement, Quintana says she doubts it can have much impact in the case of Cuba, where she says a fearful government does its best to limit contact between average Cubans and visiting Americans.\\n\\n“Spending time with Americans is considered subversive activity, so anyone who does it in an unofficial setting is suspect,” she says.\\n\\nBut there is one American she would like to see visit the island: Barack Obama.\\n\\n“President Obama says he hopes to visit Cuba in 2016, and I’m all for it – if he insists on meeting and marching with the dissidents,” she says. “That’s the kind of personal engagement that could be a transformative moment in this relationship.”\"],\n",
              "       dtype=object), array([0, 0, 1]))"
            ]
          },
          "metadata": {},
          "execution_count": 13
        }
      ]
    },
    {
      "cell_type": "markdown",
      "metadata": {
        "id": "dFvHiSnq_R8_"
      },
      "source": [
        "## Convert text into numbers"
      ]
    },
    {
      "cell_type": "markdown",
      "metadata": {
        "id": "v_VWNk1U_xKQ"
      },
      "source": [
        "### Text vectorization"
      ]
    },
    {
      "cell_type": "code",
      "metadata": {
        "colab": {
          "base_uri": "https://localhost:8080/"
        },
        "id": "mk9pmQMB_y7l",
        "outputId": "88c7c314-3d83-486c-cb35-e65b1a736a37"
      },
      "source": [
        "text_vectorizer = TextVectorization()\n",
        "\n",
        "# Average number of tokens in training articles\n",
        "round(sum([len(i.split()) for i in train_text])/len(train_text))"
      ],
      "execution_count": 14,
      "outputs": [
        {
          "output_type": "execute_result",
          "data": {
            "text/plain": [
              "786"
            ]
          },
          "metadata": {},
          "execution_count": 14
        }
      ]
    },
    {
      "cell_type": "code",
      "metadata": {
        "id": "70lQQM59BEA1"
      },
      "source": [
        "# Fit text_vectorizer\n",
        "text_vectorizer.adapt(train_text)"
      ],
      "execution_count": 15,
      "outputs": []
    },
    {
      "cell_type": "code",
      "metadata": {
        "colab": {
          "base_uri": "https://localhost:8080/"
        },
        "id": "4i_YkkpUDlPB",
        "outputId": "54b60c70-52b9-4bd1-e3a5-dece37d39d1f"
      },
      "source": [
        "# Check vectorizer is working properly\n",
        "sample = \"This is real fake news!\"\n",
        "text_vectorizer([sample])"
      ],
      "execution_count": 16,
      "outputs": [
        {
          "output_type": "execute_result",
          "data": {
            "text/plain": [
              "<tf.Tensor: shape=(1, 5), dtype=int64, numpy=array([[  20,    9,  297, 3319,  122]])>"
            ]
          },
          "metadata": {},
          "execution_count": 16
        }
      ]
    },
    {
      "cell_type": "code",
      "metadata": {
        "colab": {
          "base_uri": "https://localhost:8080/"
        },
        "id": "V6wzp_gmDx5h",
        "outputId": "8a259e08-9e4b-4195-d9eb-985836fc0f0c"
      },
      "source": [
        "random_article = random.choice(train_text)\n",
        "print(f\"Original text:\\n {random_article}\\\n",
        "        \\n\\nVectorized version:\")\n",
        "text_vectorizer([random_article])"
      ],
      "execution_count": 17,
      "outputs": [
        {
          "output_type": "stream",
          "name": "stdout",
          "text": [
            "Original text:\n",
            " Next Swipe left/right Vine 2013-2016: celebrate the life and death of an app with these 12 clips Sad news for fans of six second videos – Twitter has announced it will be closing Vine , the app it bought in 2013. Let’s say goodbye by looking back at 12 of the most important Vines ever made.\n",
            "1. This dog, drifting a car in the snow. \n",
            "2. The time George Osborne was a toddler who has just been on gas at the dentist. \n",
            "3. This army of screaming ducks \n",
            "4. Leonardo DiCaprio getting scared by Lady Gaga \n",
            "5. This kid pretending he likes the avocado he’s been given. \n",
            "6. Limmy tricks Matt Lucas into thinking he’s posing for a photo. \n",
            "7. The last 6 seconds of “Rabbit” by Chas and Dave looped. \n",
            "8. This dancing robot, set to Toto’s “Africa”. \n",
            "9. This encounter with a rotating foam arm. \n",
            "10. The struggle faced by Jay Z’s accountant. \n",
            "11. This dog riding a scooter. \n",
            "12. Another dog, this time helping out on “Seven Nation Army” by The White Stripes \n",
            "But let’s not get too sentimental – Vine also had its problems. A Vine is a short video that requires 3 clicks to start and between 7-10 clicks to stop playing. It usually features someone screaming.        \n",
            "\n",
            "Vectorized version:\n"
          ]
        },
        {
          "output_type": "execute_result",
          "data": {
            "text/plain": [
              "<tf.Tensor: shape=(1, 211), dtype=int64, numpy=\n",
              "array([[  208,  7494,  9590, 18328, 92657,  3938,     2,   285,     5,\n",
              "          535,     4,    31,  6314,    13,    99,   943,  8850,  3055,\n",
              "          122,    10,  3047,     4,   731,   386,  1561,    96,   635,\n",
              "           24,   611,    14,    34,    18,  2667, 18328,     2,  6314,\n",
              "           14,  3394,     7,   729,  1473,   124, 13803,    19,   574,\n",
              "          142,    25,   943,     4,     2,    92,   324, 29245,   361,\n",
              "          147,   389,    20,  3754, 17800,     6,  1552,     7,     2,\n",
              "         7334,   577,     2,    86,   519, 30990,    16,     6, 25247,\n",
              "           32,    24,    73,    44,    11,  1500,    25,     2, 43593,\n",
              "          676,    20,   870,     4,  5420, 12563,   768, 17522, 21448,\n",
              "          456,  3476,    19,  1976, 14619,   687,    20,  4383,  5594,\n",
              "           15,  2920,     2, 19716,   404,    44,   345,  1140, 71830,\n",
              "         5653,  2368,  9003,    80,  1162,   404,  6825,    10,     6,\n",
              "         1592,  1084,     2,   117,  1140,  3311,     4, 47820,    19,\n",
              "        85523,     5,  4813, 40658,   956,    20, 11138,  8274,   409,\n",
              "            3, 56434, 50354,  1343,    20,  4878,    13,     6, 14287,\n",
              "        32577,  3469,   408,     2,  2046,  2101,    19,  3745, 35714,\n",
              "        45939,   742,    20,  3754,  5954,     6, 61169,   943,   173,\n",
              "         3754,    20,    86,  1512,    56,    11, 47493,   525, 19736,\n",
              "           19,     2,   112, 13491,    27,  1473,    23,   103,   207,\n",
              "        25642,    96, 18328,    68,    51,    55,   699,     6, 18328,\n",
              "            9,     6,   830,   371,     8,  2446,   676, 17939,     3,\n",
              "          546,     5,   168, 24600, 17939,     3,   464,  1820,    14,\n",
              "         1936,  4194,   487,  5420]])>"
            ]
          },
          "metadata": {},
          "execution_count": 17
        }
      ]
    },
    {
      "cell_type": "code",
      "metadata": {
        "colab": {
          "base_uri": "https://localhost:8080/"
        },
        "id": "rgsYFWAqEgy2",
        "outputId": "82cbbb9e-41f3-4cc6-c1ed-3471d503a2a9"
      },
      "source": [
        "# Get the unique words in the vocabulary\n",
        "words_in_vocab = text_vectorizer.get_vocabulary()\n",
        "\n",
        "print(f\"Total number of unique words in vocab: {len(words_in_vocab)}\")\n",
        "print(f\"Top 10 words: {words_in_vocab[:10]}\")\n",
        "print(f\"Least used words: {words_in_vocab[-10:]}\")"
      ],
      "execution_count": 18,
      "outputs": [
        {
          "output_type": "stream",
          "name": "stdout",
          "text": [
            "Total number of unique words in vocab: 93531\n",
            "Top 10 words: ['', '[UNK]', 'the', 'to', 'of', 'and', 'a', 'in', 'that', 'is']\n",
            "Least used words: ['0026', '002', '0008s', '0007s', '0005s', '0004s', '0002', '00006', '00001400', '0000000031']\n"
          ]
        }
      ]
    },
    {
      "cell_type": "markdown",
      "metadata": {
        "id": "xxi0FbCOGZOl"
      },
      "source": [
        "### Embedding using an Embedding Layer"
      ]
    },
    {
      "cell_type": "code",
      "metadata": {
        "colab": {
          "base_uri": "https://localhost:8080/"
        },
        "id": "l8T7q_8UHECI",
        "outputId": "27130a3a-0099-4d7a-82e1-b47d5b4d4739"
      },
      "source": [
        "embedding = layers.Embedding(input_dim=len(words_in_vocab),\n",
        "                             output_dim=128)\n",
        "embedding"
      ],
      "execution_count": 19,
      "outputs": [
        {
          "output_type": "execute_result",
          "data": {
            "text/plain": [
              "<keras.layers.embeddings.Embedding at 0x7ff22009cf50>"
            ]
          },
          "metadata": {},
          "execution_count": 19
        }
      ]
    },
    {
      "cell_type": "code",
      "metadata": {
        "colab": {
          "base_uri": "https://localhost:8080/"
        },
        "id": "PLeOEvVNHvol",
        "outputId": "a3dc8e74-6b0a-45fb-aa55-820cfb1a3525"
      },
      "source": [
        "# Check embedding layer\n",
        "random_article = random.choice(train_text)\n",
        "print(f\"Original text:\\n {random_article}\\\n",
        "        \\n\\nEmbedded version:\")\n",
        "\n",
        "# Embed the random article\n",
        "embedded_article = embedding(text_vectorizer([random_article]))\n",
        "embedded_article"
      ],
      "execution_count": 20,
      "outputs": [
        {
          "output_type": "stream",
          "name": "stdout",
          "text": [
            "Original text:\n",
            " New Jersey Gov. Chris Christie roared into Sunday after a fierce debate performance hours earlier in which he slowed rising, fellow GOP presidential candidate Sen. Marco Rubio, with the New Hampshire primary ahead.\n",
            "\n",
            "“He’s a good guy, but he’s just not ready to be president,” Christie told “Fox News Sunday,” after attacking Rubio for his inexperience in running government. “I felt justified because I’ve been saying this for a long time.”\n",
            "\n",
            "Christie is one of three GOP candidates with governor experience competing with Rubio for the so-called “Republican establishment” vote and trying to stay alive in the race, with insurgents Donald Trump and Texas Sen. Ted Cruz also in the top tier.\n",
            "\n",
            "“I am tested and prepared and ready,” said Christie, arguing that Barack Obama becoming president as a one-term senator, like Rubio, has been a disaster for the country.\n",
            "\n",
            "“We don’t need another on-the-job training,” he said. “I’m glad the American people saw (Rubio’s debate performance) before they made another mistake.”\n",
            "\n",
            "In response to Christie’s attacks at the ABC debate Saturday night in New Hampshire, Rubio, R-Fla., stumbled and repeated himself several times about Obama’s running the country.\n",
            "\n",
            "Ohio Gov. John Kasich, who like Christie is banking on a good showing in independent-minded New Hampshire, dismissed the notion that he’s competing with Christie and former Florida Gov. Jeb Bush for the establishment vote, despite having a career that includes 18 years in Congress.\n",
            "\n",
            "“I am not an establishment candidate,” he told “Fox News Sunday.” “And I’m not an anti-establishment candidate.”\n",
            "\n",
            "He cited his individual efforts to reform welfare and the Pentagon and repeated that his 2016 platform includes a “path to legalization” for illegal immigrants in the country, while also calling for the completion of a wall along the southern U.S. border.\n",
            "\n",
            "He also dismissed the notion that New Hampshire is do-or-die for his campaign.\n",
            "\n",
            "“All I have to do is finish well,” he said. “I have the best ground game.”\n",
            "\n",
            "Bush, who like Rubio is from Florida, and was considered a mentor to the senator, on Sunday continued his efforts to move ahead of Rubio.\n",
            "\n",
            "“The simple fact is, I’m a leader,” he told “Fox News Sunday.” “Marco Rubio is a gifted speaker. But we’re competing for president of the United States, not the back bench of the Senate.”\n",
            "\n",
            "Trump was hit hard by Bush in the debate for his support of eminent domain, with Bush pointing out that Trump tried to take property for an \"elderly woman\" in Atlantic City for a casino parking lot.\n",
            "\n",
            "\"Shush,\" Trump said to Bush as he tried to respond to the attack.\n",
            "\n",
            "Trump said several times Sunday that he thought he won the debate.\n",
            "\n",
            "He also told Fox News that he has a “good team” in New Hampshire and called last week’s Iowa Caucuses, in which he lost to Cruz, “complicated.”\n",
            "\n",
            "The billionaire businessman also suggested he would like to challenge Democratic presidential candidate Vermont Sen. Bernie Sanders in the general election.\n",
            "\n",
            "Trump suggested that Sanders, a self-described Democratic socialist, is perhaps a “Communist.”        \n",
            "\n",
            "Embedded version:\n"
          ]
        },
        {
          "output_type": "execute_result",
          "data": {
            "text/plain": [
              "<tf.Tensor: shape=(1, 503, 128), dtype=float32, numpy=\n",
              "array([[[-0.02380004,  0.0176409 ,  0.01749775, ...,  0.00816809,\n",
              "          0.00683901, -0.01987863],\n",
              "        [-0.03109795,  0.03586889, -0.00236143, ...,  0.03289516,\n",
              "         -0.03250984,  0.01398933],\n",
              "        [-0.00217841, -0.03175209, -0.03071915, ..., -0.04404483,\n",
              "         -0.0293336 , -0.04105824],\n",
              "        ...,\n",
              "        [-0.03212012,  0.0236612 ,  0.04693692, ...,  0.00023953,\n",
              "         -0.01325717,  0.00295817],\n",
              "        [ 0.03710547,  0.02305261,  0.01592691, ...,  0.02493706,\n",
              "          0.03403156,  0.04831208],\n",
              "        [-0.04003122, -0.0164356 ,  0.0384514 , ..., -0.04260547,\n",
              "          0.04905072,  0.04646161]]], dtype=float32)>"
            ]
          },
          "metadata": {},
          "execution_count": 20
        }
      ]
    },
    {
      "cell_type": "markdown",
      "metadata": {
        "id": "vM0eC_lHIis6"
      },
      "source": [
        "## Modelling Experiments \n",
        "\n",
        "* Model 0: Naive Bayes (baseline)\n",
        "* Model 1: Feed-forward neural network (dense model)\n",
        "* Model 2: LSTM model (RNN)\n",
        "* Model 3: GRU model (RNN)\n",
        "* Model 4: Bidirectional-LSTM model (RNN)\n",
        "* Model 5: 1D Convolutional Neural Network (CNN)\n",
        "* Model 6: TensorFlow Hub Pretrainedd Feature Extractor"
      ]
    },
    {
      "cell_type": "markdown",
      "metadata": {
        "id": "WzN7e_6DTUs7"
      },
      "source": [
        "### Helper functions and variables"
      ]
    },
    {
      "cell_type": "code",
      "metadata": {
        "id": "MI_oNOPLUEzu"
      },
      "source": [
        "# Evaluate: accuracy, precision, recall, f1-score\n",
        "from sklearn.metrics import accuracy_score, precision_recall_fscore_support\n",
        "\n",
        "def calculate_results(y_true, y_pred):\n",
        "  \"\"\"\n",
        "  Calculate model accuracy, precision, recall, and f1 score of a binary classification model.\n",
        "  \"\"\"\n",
        "\n",
        "  # Calculate accuracy\n",
        "  model_accuracy = accuracy_score(y_true, y_pred) * 100\n",
        "\n",
        "  # Calculate precision, recall, and f1-score using 'weighted' average\n",
        "  model_precision, model_recall, model_f1, _ = precision_recall_fscore_support(y_true, y_pred, average='weighted')\n",
        "\n",
        "  model_results = {\"accuracy\": model_accuracy,\n",
        "                   \"precision\": model_precision,\n",
        "                   \"recall\": model_recall,\n",
        "                   \"f1\": model_f1}\n",
        "  \n",
        "  return model_results\n",
        "\n",
        "\n",
        "# Create a TensorBoard callback instand to store log files.\n",
        "import datetime\n",
        "SAVE_DIR = \"model_logs\"\n",
        "\n",
        "def create_tensorboard_callback(dir_name, experiment_name):\n",
        "  \"\"\"\n",
        "  Stores log files with the filepath:\n",
        "    \"dir_name/experiment_name/current_datetime/\"\n",
        "  Args:\n",
        "    dir_name: target directory to store TensorBoard log files\n",
        "    experiment_name: name of experiment directory (e.g. efficientnet_model_1)\n",
        "  \"\"\"\n",
        "  log_dir = dir_name + \"/\" + experiment_name + \"/\" + datetime.datetime.now().strftime(\"%Y%m%d-%H%M%S\")\n",
        "  tensorboard_callback = tf.keras.callbacks.TensorBoard(\n",
        "      log_dir=log_dir\n",
        "  )\n",
        "  print(f\"Saving TensorBoard log files to: {log_dir}\")\n",
        "  return tensorboard_callback"
      ],
      "execution_count": 21,
      "outputs": []
    },
    {
      "cell_type": "markdown",
      "metadata": {
        "id": "s8wHDD4NRmqd"
      },
      "source": [
        "### Model 0: Getting a baseline\n",
        "\n",
        "Create a baseline using Sklearn's Multinomial Naive Bayes using the TF-IDF formula to convert words into numbers."
      ]
    },
    {
      "cell_type": "code",
      "metadata": {
        "colab": {
          "base_uri": "https://localhost:8080/"
        },
        "id": "Ld9ytgUSSH7B",
        "outputId": "0d263314-d321-4bab-f3ba-d561a0209596"
      },
      "source": [
        "# Create tokenization and modelling pipeline\n",
        "model_0 = Pipeline([\n",
        "                    (\"tfidf\", TfidfVectorizer()),\n",
        "                    (\"clf\", MultinomialNB())\n",
        "])\n",
        "\n",
        "# Fit pipeline to training data\n",
        "model_0.fit(train_text, train_labels)"
      ],
      "execution_count": 22,
      "outputs": [
        {
          "output_type": "execute_result",
          "data": {
            "text/plain": [
              "Pipeline(memory=None,\n",
              "         steps=[('tfidf',\n",
              "                 TfidfVectorizer(analyzer='word', binary=False,\n",
              "                                 decode_error='strict',\n",
              "                                 dtype=<class 'numpy.float64'>,\n",
              "                                 encoding='utf-8', input='content',\n",
              "                                 lowercase=True, max_df=1.0, max_features=None,\n",
              "                                 min_df=1, ngram_range=(1, 1), norm='l2',\n",
              "                                 preprocessor=None, smooth_idf=True,\n",
              "                                 stop_words=None, strip_accents=None,\n",
              "                                 sublinear_tf=False,\n",
              "                                 token_pattern='(?u)\\\\b\\\\w\\\\w+\\\\b',\n",
              "                                 tokenizer=None, use_idf=True,\n",
              "                                 vocabulary=None)),\n",
              "                ('clf',\n",
              "                 MultinomialNB(alpha=1.0, class_prior=None, fit_prior=True))],\n",
              "         verbose=False)"
            ]
          },
          "metadata": {},
          "execution_count": 22
        }
      ]
    },
    {
      "cell_type": "code",
      "metadata": {
        "colab": {
          "base_uri": "https://localhost:8080/"
        },
        "id": "PC0azrBLSnsB",
        "outputId": "d2a841aa-2496-4e01-a6cf-d705f0c61db5"
      },
      "source": [
        "# Evaluate baseline model\n",
        "baseline_score = model_0.score(val_text, val_labels)\n",
        "print(f\"Baseline accuracy: {baseline_score*100:.2f}%\")"
      ],
      "execution_count": 23,
      "outputs": [
        {
          "output_type": "stream",
          "name": "stdout",
          "text": [
            "Baseline accuracy: 80.97%\n"
          ]
        }
      ]
    },
    {
      "cell_type": "code",
      "metadata": {
        "colab": {
          "base_uri": "https://localhost:8080/"
        },
        "id": "S09z6ciXS_AI",
        "outputId": "851359f9-821c-40c2-d4cb-9bda362a9e92"
      },
      "source": [
        "# Make predictions\n",
        "baseline_preds = model_0.predict(test_text)\n",
        "baseline_preds[:20]"
      ],
      "execution_count": 24,
      "outputs": [
        {
          "output_type": "execute_result",
          "data": {
            "text/plain": [
              "array([1, 1, 1, 1, 0, 0, 1, 1, 0, 1, 0, 0, 1, 1, 1, 0, 1, 0, 0, 1])"
            ]
          },
          "metadata": {},
          "execution_count": 24
        }
      ]
    },
    {
      "cell_type": "code",
      "metadata": {
        "colab": {
          "base_uri": "https://localhost:8080/"
        },
        "id": "lIIw1pqcTJxE",
        "outputId": "e04a4c9c-dfa0-4187-e20f-73f5d729738f"
      },
      "source": [
        "# Calculate results\n",
        "baseline_results = calculate_results(test_labels, baseline_preds)\n",
        "baseline_results"
      ],
      "execution_count": 25,
      "outputs": [
        {
          "output_type": "execute_result",
          "data": {
            "text/plain": [
              "{'accuracy': 80.18942383583267,\n",
              " 'f1': 0.7936290700224626,\n",
              " 'precision': 0.8477118498688998,\n",
              " 'recall': 0.8018942383583267}"
            ]
          },
          "metadata": {},
          "execution_count": 25
        }
      ]
    },
    {
      "cell_type": "markdown",
      "metadata": {
        "id": "PoMI84NpWZL_"
      },
      "source": [
        "### Model 1: Simple dense model\n",
        "\n",
        "Build a simple dense model using the Functional API"
      ]
    },
    {
      "cell_type": "code",
      "metadata": {
        "id": "j6W8t6bUWjJ5"
      },
      "source": [
        "inputs = layers.Input(shape=(1,), dtype=tf.string)\n",
        "x = text_vectorizer(inputs)\n",
        "x = embedding (x)\n",
        "x = layers.GlobalAveragePooling1D()(x) # condense the feature vector for each token to one vector\n",
        "outputs = layers.Dense(1, activation=\"sigmoid\")(x)\n",
        "model_1 = tf.keras.Model(inputs, outputs, name=\"model_1_dense\")"
      ],
      "execution_count": 26,
      "outputs": []
    },
    {
      "cell_type": "code",
      "metadata": {
        "colab": {
          "base_uri": "https://localhost:8080/"
        },
        "id": "jUZpTRgCZhvI",
        "outputId": "9a21d911-945c-4906-ea03-d6fed09eddfe"
      },
      "source": [
        "model_1.summary()"
      ],
      "execution_count": 27,
      "outputs": [
        {
          "output_type": "stream",
          "name": "stdout",
          "text": [
            "Model: \"model_1_dense\"\n",
            "_________________________________________________________________\n",
            "Layer (type)                 Output Shape              Param #   \n",
            "=================================================================\n",
            "input_1 (InputLayer)         [(None, 1)]               0         \n",
            "_________________________________________________________________\n",
            "text_vectorization (TextVect (None, None)              0         \n",
            "_________________________________________________________________\n",
            "embedding (Embedding)        (None, None, 128)         11971968  \n",
            "_________________________________________________________________\n",
            "global_average_pooling1d (Gl (None, 128)               0         \n",
            "_________________________________________________________________\n",
            "dense (Dense)                (None, 1)                 129       \n",
            "=================================================================\n",
            "Total params: 11,972,097\n",
            "Trainable params: 11,972,097\n",
            "Non-trainable params: 0\n",
            "_________________________________________________________________\n"
          ]
        }
      ]
    },
    {
      "cell_type": "code",
      "metadata": {
        "colab": {
          "base_uri": "https://localhost:8080/"
        },
        "id": "9r6_etZ3ZjVp",
        "outputId": "773a530e-fa4e-4b94-929a-e36b63cc16c3"
      },
      "source": [
        "# Compile\n",
        "model_1.compile(loss=tf.keras.losses.BinaryCrossentropy(),\n",
        "                optimizer=tf.keras.optimizers.Adam(),\n",
        "                metrics=[\"accuracy\"])\n",
        "\n",
        "# Fit\n",
        "model_1_history = model_1.fit(train_text,\n",
        "                              train_labels,\n",
        "                              epochs=10,\n",
        "                              validation_data=(val_text, val_labels),\n",
        "                              callbacks=[create_tensorboard_callback(SAVE_DIR, model_1.name)])"
      ],
      "execution_count": 28,
      "outputs": [
        {
          "output_type": "stream",
          "name": "stdout",
          "text": [
            "Saving TensorBoard log files to: model_logs/model_1_dense/20210910-180128\n",
            "Epoch 1/10\n",
            "127/127 [==============================] - 7s 35ms/step - loss: 0.6829 - accuracy: 0.5853 - val_loss: 0.6689 - val_accuracy: 0.6371\n",
            "Epoch 2/10\n",
            "127/127 [==============================] - 4s 28ms/step - loss: 0.6574 - accuracy: 0.6411 - val_loss: 0.6392 - val_accuracy: 0.7032\n",
            "Epoch 3/10\n",
            "127/127 [==============================] - 4s 28ms/step - loss: 0.6194 - accuracy: 0.7124 - val_loss: 0.5866 - val_accuracy: 0.7673\n",
            "Epoch 4/10\n",
            "127/127 [==============================] - 4s 29ms/step - loss: 0.5670 - accuracy: 0.7718 - val_loss: 0.5274 - val_accuracy: 0.8205\n",
            "Epoch 5/10\n",
            "127/127 [==============================] - 4s 28ms/step - loss: 0.5078 - accuracy: 0.8081 - val_loss: 0.4737 - val_accuracy: 0.8235\n",
            "Epoch 6/10\n",
            "127/127 [==============================] - 4s 28ms/step - loss: 0.4591 - accuracy: 0.8397 - val_loss: 0.4305 - val_accuracy: 0.8412\n",
            "Epoch 7/10\n",
            "127/127 [==============================] - 4s 28ms/step - loss: 0.4184 - accuracy: 0.8587 - val_loss: 0.3972 - val_accuracy: 0.8669\n",
            "Epoch 8/10\n",
            "127/127 [==============================] - 4s 28ms/step - loss: 0.3838 - accuracy: 0.8633 - val_loss: 0.3701 - val_accuracy: 0.8688\n",
            "Epoch 9/10\n",
            "127/127 [==============================] - 4s 28ms/step - loss: 0.3552 - accuracy: 0.8784 - val_loss: 0.3476 - val_accuracy: 0.8767\n",
            "Epoch 10/10\n",
            "127/127 [==============================] - 4s 29ms/step - loss: 0.3309 - accuracy: 0.8865 - val_loss: 0.3283 - val_accuracy: 0.8738\n"
          ]
        }
      ]
    },
    {
      "cell_type": "code",
      "metadata": {
        "colab": {
          "base_uri": "https://localhost:8080/"
        },
        "id": "dis3hH0zaxFl",
        "outputId": "df4d5848-ecdf-4b8a-b9c0-ca2f31a1644d"
      },
      "source": [
        "# Evaluate\n",
        "model_1.evaluate(val_text, val_labels)"
      ],
      "execution_count": 29,
      "outputs": [
        {
          "output_type": "stream",
          "name": "stdout",
          "text": [
            "32/32 [==============================] - 0s 10ms/step - loss: 0.3283 - accuracy: 0.8738\n"
          ]
        },
        {
          "output_type": "execute_result",
          "data": {
            "text/plain": [
              "[0.3283116817474365, 0.8737672567367554]"
            ]
          },
          "metadata": {},
          "execution_count": 29
        }
      ]
    },
    {
      "cell_type": "code",
      "metadata": {
        "colab": {
          "base_uri": "https://localhost:8080/"
        },
        "id": "CSQaR-dcclce",
        "outputId": "a9a8fd21-616d-4d91-c2ec-2c59f7b8f71b"
      },
      "source": [
        "# Make predictions\n",
        "model_1_pred_probs = model_1.predict(test_text)\n",
        "model_1_pred_probs.shape"
      ],
      "execution_count": 30,
      "outputs": [
        {
          "output_type": "execute_result",
          "data": {
            "text/plain": [
              "(1267, 1)"
            ]
          },
          "metadata": {},
          "execution_count": 30
        }
      ]
    },
    {
      "cell_type": "code",
      "metadata": {
        "colab": {
          "base_uri": "https://localhost:8080/"
        },
        "id": "c_hJSjOrc5cR",
        "outputId": "11868dfa-bacc-4a39-e622-034ccadf86b9"
      },
      "source": [
        "model_1_pred_probs[:10]"
      ],
      "execution_count": 31,
      "outputs": [
        {
          "output_type": "execute_result",
          "data": {
            "text/plain": [
              "array([[0.2430876 ],\n",
              "       [0.07874929],\n",
              "       [0.97227955],\n",
              "       [0.9255234 ],\n",
              "       [0.24667652],\n",
              "       [0.1217082 ],\n",
              "       [0.08622684],\n",
              "       [0.42647332],\n",
              "       [0.23756063],\n",
              "       [0.9200555 ]], dtype=float32)"
            ]
          },
          "metadata": {},
          "execution_count": 31
        }
      ]
    },
    {
      "cell_type": "code",
      "metadata": {
        "colab": {
          "base_uri": "https://localhost:8080/"
        },
        "id": "tPfviQoxc8O5",
        "outputId": "24bf5c08-1d5c-46bf-e5af-67defcb1c721"
      },
      "source": [
        "# Convert prediction probabilities to label format\n",
        "model_1_preds = tf.squeeze(tf.round(model_1_pred_probs))\n",
        "model_1_preds[:10]"
      ],
      "execution_count": 32,
      "outputs": [
        {
          "output_type": "execute_result",
          "data": {
            "text/plain": [
              "<tf.Tensor: shape=(10,), dtype=float32, numpy=array([0., 0., 1., 1., 0., 0., 0., 0., 0., 1.], dtype=float32)>"
            ]
          },
          "metadata": {},
          "execution_count": 32
        }
      ]
    },
    {
      "cell_type": "code",
      "metadata": {
        "colab": {
          "base_uri": "https://localhost:8080/"
        },
        "id": "l-x-ygJKdR0n",
        "outputId": "2a6642a3-5e88-4ded-c1e7-d8902d9bd890"
      },
      "source": [
        "# Calculate results\n",
        "model_1_results = calculate_results(test_labels, model_1_preds)\n",
        "model_1_results"
      ],
      "execution_count": 33,
      "outputs": [
        {
          "output_type": "execute_result",
          "data": {
            "text/plain": [
              "{'accuracy': 84.92501973164957,\n",
              " 'f1': 0.8480950459469747,\n",
              " 'precision': 0.8662028149299428,\n",
              " 'recall': 0.8492501973164956}"
            ]
          },
          "metadata": {},
          "execution_count": 33
        }
      ]
    },
    {
      "cell_type": "markdown",
      "metadata": {
        "id": "qVDxUrzjeGWK"
      },
      "source": [
        "### Model 2: Long Short Term Memory (LSTM)"
      ]
    },
    {
      "cell_type": "code",
      "metadata": {
        "id": "p4ApfZc1f72D"
      },
      "source": [
        "inputs = layers.Input(shape=(1,), dtype=tf.string)\n",
        "x = text_vectorizer(inputs)\n",
        "x = embedding(x)\n",
        "x = layers.LSTM(64, return_sequences=True)(x)\n",
        "x = layers.LSTM(64)(x)\n",
        "x = layers.Dense(64, activation=\"relu\")(x)\n",
        "outputs = layers.Dense(1, activation=\"sigmoid\")(x)\n",
        "model_2 = tf.keras.Model(inputs, outputs, name=\"model_2_LSTM\")"
      ],
      "execution_count": 34,
      "outputs": []
    },
    {
      "cell_type": "code",
      "metadata": {
        "colab": {
          "base_uri": "https://localhost:8080/"
        },
        "id": "611Gf-P2gs2h",
        "outputId": "f5f39869-d61c-498b-f47f-4b757d61bc84"
      },
      "source": [
        "model_2.summary()"
      ],
      "execution_count": 35,
      "outputs": [
        {
          "output_type": "stream",
          "name": "stdout",
          "text": [
            "Model: \"model_2_LSTM\"\n",
            "_________________________________________________________________\n",
            "Layer (type)                 Output Shape              Param #   \n",
            "=================================================================\n",
            "input_2 (InputLayer)         [(None, 1)]               0         \n",
            "_________________________________________________________________\n",
            "text_vectorization (TextVect (None, None)              0         \n",
            "_________________________________________________________________\n",
            "embedding (Embedding)        (None, None, 128)         11971968  \n",
            "_________________________________________________________________\n",
            "lstm (LSTM)                  (None, None, 64)          49408     \n",
            "_________________________________________________________________\n",
            "lstm_1 (LSTM)                (None, 64)                33024     \n",
            "_________________________________________________________________\n",
            "dense_1 (Dense)              (None, 64)                4160      \n",
            "_________________________________________________________________\n",
            "dense_2 (Dense)              (None, 1)                 65        \n",
            "=================================================================\n",
            "Total params: 12,058,625\n",
            "Trainable params: 12,058,625\n",
            "Non-trainable params: 0\n",
            "_________________________________________________________________\n"
          ]
        }
      ]
    },
    {
      "cell_type": "code",
      "metadata": {
        "colab": {
          "base_uri": "https://localhost:8080/"
        },
        "id": "_Q1d7zXqgxtg",
        "outputId": "87daf181-5b65-44d6-8e7a-718bb9ba4f66"
      },
      "source": [
        "# Compile\n",
        "model_2.compile(loss=tf.keras.losses.BinaryCrossentropy(),\n",
        "                optimizer=tf.keras.optimizers.Adam(),\n",
        "                metrics=[\"accuracy\"])\n",
        "\n",
        "# Fit\n",
        "model_2_history = model_2.fit(train_text,\n",
        "                              train_labels,\n",
        "                              epochs=10,\n",
        "                              validation_data=(val_text, val_labels),\n",
        "                              callbacks=[create_tensorboard_callback(SAVE_DIR, model_2.name)])"
      ],
      "execution_count": 36,
      "outputs": [
        {
          "output_type": "stream",
          "name": "stdout",
          "text": [
            "Saving TensorBoard log files to: model_logs/model_2_LSTM/20210910-180211\n",
            "Epoch 1/10\n",
            "127/127 [==============================] - 109s 818ms/step - loss: 0.6883 - accuracy: 0.5079 - val_loss: 0.6866 - val_accuracy: 0.5207\n",
            "Epoch 2/10\n",
            "127/127 [==============================] - 100s 783ms/step - loss: 0.4541 - accuracy: 0.8078 - val_loss: 0.4228 - val_accuracy: 0.8442\n",
            "Epoch 3/10\n",
            "127/127 [==============================] - 98s 775ms/step - loss: 0.4907 - accuracy: 0.7595 - val_loss: 0.6653 - val_accuracy: 0.5582\n",
            "Epoch 4/10\n",
            "127/127 [==============================] - 98s 775ms/step - loss: 0.4420 - accuracy: 0.8214 - val_loss: 0.4660 - val_accuracy: 0.8116\n",
            "Epoch 5/10\n",
            "127/127 [==============================] - 99s 779ms/step - loss: 0.6149 - accuracy: 0.5972 - val_loss: 0.6928 - val_accuracy: 0.5168\n",
            "Epoch 6/10\n",
            "127/127 [==============================] - 102s 804ms/step - loss: 0.6946 - accuracy: 0.4998 - val_loss: 0.6925 - val_accuracy: 0.5148\n",
            "Epoch 7/10\n",
            "127/127 [==============================] - 100s 791ms/step - loss: 0.6936 - accuracy: 0.4995 - val_loss: 0.6921 - val_accuracy: 0.5138\n",
            "Epoch 8/10\n",
            "127/127 [==============================] - 102s 809ms/step - loss: 0.6929 - accuracy: 0.4978 - val_loss: 0.6912 - val_accuracy: 0.5168\n",
            "Epoch 9/10\n",
            "127/127 [==============================] - 99s 778ms/step - loss: 0.6908 - accuracy: 0.5168 - val_loss: 0.6949 - val_accuracy: 0.5158\n",
            "Epoch 10/10\n",
            "127/127 [==============================] - 101s 801ms/step - loss: 0.6891 - accuracy: 0.5116 - val_loss: 0.6923 - val_accuracy: 0.4961\n"
          ]
        }
      ]
    },
    {
      "cell_type": "code",
      "metadata": {
        "colab": {
          "base_uri": "https://localhost:8080/"
        },
        "id": "9LJMVbY3z2z0",
        "outputId": "ae3dea9f-47e1-4622-f059-ed0f6b4b32ce"
      },
      "source": [
        "# Evaluate\n",
        "model_2.evaluate(val_text, val_labels)"
      ],
      "execution_count": 37,
      "outputs": [
        {
          "output_type": "stream",
          "name": "stdout",
          "text": [
            "32/32 [==============================] - 9s 275ms/step - loss: 0.6923 - accuracy: 0.4961\n"
          ]
        },
        {
          "output_type": "execute_result",
          "data": {
            "text/plain": [
              "[0.6922860145568848, 0.4960552155971527]"
            ]
          },
          "metadata": {},
          "execution_count": 37
        }
      ]
    },
    {
      "cell_type": "code",
      "metadata": {
        "colab": {
          "base_uri": "https://localhost:8080/"
        },
        "id": "Runku72Whg8D",
        "outputId": "aa982698-a066-477f-99a2-13287dc6eab0"
      },
      "source": [
        "# Make predictions\n",
        "model_2_pred_probs = model_2.predict(test_text)\n",
        "model_2_pred_probs[:10]"
      ],
      "execution_count": 38,
      "outputs": [
        {
          "output_type": "execute_result",
          "data": {
            "text/plain": [
              "array([[0.5281023 ],\n",
              "       [0.20972204],\n",
              "       [0.5281023 ],\n",
              "       [0.5281023 ],\n",
              "       [0.5281023 ],\n",
              "       [0.5281023 ],\n",
              "       [0.5281023 ],\n",
              "       [0.5281023 ],\n",
              "       [0.5281023 ],\n",
              "       [0.5281023 ]], dtype=float32)"
            ]
          },
          "metadata": {},
          "execution_count": 38
        }
      ]
    },
    {
      "cell_type": "code",
      "metadata": {
        "colab": {
          "base_uri": "https://localhost:8080/"
        },
        "id": "q0S6hEccuFf4",
        "outputId": "bffebfb9-38b2-43f4-a833-49a9792b53c8"
      },
      "source": [
        "# Convert pred probs to labels\n",
        "model_2_preds = tf.squeeze(tf.round(model_2_pred_probs))\n",
        "model_2_preds[:10]"
      ],
      "execution_count": 39,
      "outputs": [
        {
          "output_type": "execute_result",
          "data": {
            "text/plain": [
              "<tf.Tensor: shape=(10,), dtype=float32, numpy=array([1., 0., 1., 1., 1., 1., 1., 1., 1., 1.], dtype=float32)>"
            ]
          },
          "metadata": {},
          "execution_count": 39
        }
      ]
    },
    {
      "cell_type": "code",
      "metadata": {
        "colab": {
          "base_uri": "https://localhost:8080/"
        },
        "id": "oWhJRduIuZw6",
        "outputId": "6cbdbcf5-c2fe-40d6-af53-a8b21bf331c5"
      },
      "source": [
        "# Calculate results\n",
        "model_2_results = calculate_results(test_labels, model_2_preds)\n",
        "model_2_results"
      ],
      "execution_count": 40,
      "outputs": [
        {
          "output_type": "execute_result",
          "data": {
            "text/plain": [
              "{'accuracy': 52.09155485398579,\n",
              " 'f1': 0.3673122158072158,\n",
              " 'precision': 0.6133566732659298,\n",
              " 'recall': 0.5209155485398579}"
            ]
          },
          "metadata": {},
          "execution_count": 40
        }
      ]
    },
    {
      "cell_type": "markdown",
      "metadata": {
        "id": "IHtmajVvyRwZ"
      },
      "source": [
        "### Model 3: GRU\n",
        "\n",
        "Build an RNN using GRU"
      ]
    },
    {
      "cell_type": "code",
      "metadata": {
        "id": "KUpDxM6fydT4"
      },
      "source": [
        "inputs = layers.Input(shape=(1,), dtype=tf.string)\n",
        "x = text_vectorizer(inputs)\n",
        "x = embedding(x)\n",
        "x = layers.GRU(64, return_sequences=True)(x)\n",
        "x = layers.GRU(64, return_sequences=True)(x)\n",
        "x = layers.LSTM(64, return_sequences=True)(x)\n",
        "x = layers.GRU(64, return_sequences=True)(x)\n",
        "x = layers.Dense(64, activation=\"relu\")(x)\n",
        "x = layers.GlobalAveragePooling1D()(x)\n",
        "outputs = layers.Dense(1, activation=\"sigmoid\")(x)\n",
        "model_3 = tf.keras.Model(inputs, outputs, name=\"model_3_GRU\")"
      ],
      "execution_count": 41,
      "outputs": []
    },
    {
      "cell_type": "code",
      "metadata": {
        "id": "awH_QjbtGOR9",
        "colab": {
          "base_uri": "https://localhost:8080/"
        },
        "outputId": "fbfe5880-20ae-4db3-cb36-9de74a00737a"
      },
      "source": [
        "model_3.summary()"
      ],
      "execution_count": 42,
      "outputs": [
        {
          "output_type": "stream",
          "name": "stdout",
          "text": [
            "Model: \"model_3_GRU\"\n",
            "_________________________________________________________________\n",
            "Layer (type)                 Output Shape              Param #   \n",
            "=================================================================\n",
            "input_3 (InputLayer)         [(None, 1)]               0         \n",
            "_________________________________________________________________\n",
            "text_vectorization (TextVect (None, None)              0         \n",
            "_________________________________________________________________\n",
            "embedding (Embedding)        (None, None, 128)         11971968  \n",
            "_________________________________________________________________\n",
            "gru (GRU)                    (None, None, 64)          37248     \n",
            "_________________________________________________________________\n",
            "gru_1 (GRU)                  (None, None, 64)          24960     \n",
            "_________________________________________________________________\n",
            "lstm_2 (LSTM)                (None, None, 64)          33024     \n",
            "_________________________________________________________________\n",
            "gru_2 (GRU)                  (None, None, 64)          24960     \n",
            "_________________________________________________________________\n",
            "dense_3 (Dense)              (None, None, 64)          4160      \n",
            "_________________________________________________________________\n",
            "global_average_pooling1d_1 ( (None, 64)                0         \n",
            "_________________________________________________________________\n",
            "dense_4 (Dense)              (None, 1)                 65        \n",
            "=================================================================\n",
            "Total params: 12,096,385\n",
            "Trainable params: 12,096,385\n",
            "Non-trainable params: 0\n",
            "_________________________________________________________________\n"
          ]
        }
      ]
    },
    {
      "cell_type": "code",
      "metadata": {
        "colab": {
          "base_uri": "https://localhost:8080/"
        },
        "id": "aRQZslk6yr6X",
        "outputId": "bddb3811-87c0-4142-b8da-da4df0844636"
      },
      "source": [
        "# Compile\n",
        "model_3.compile(loss=tf.keras.losses.BinaryCrossentropy(),\n",
        "                optimizer=tf.keras.optimizers.Adam(),\n",
        "                metrics=[\"accuracy\"])\n",
        "\n",
        "# Fit\n",
        "model_3_history = model_3.fit(train_text,\n",
        "                              train_labels,\n",
        "                              epochs=5,\n",
        "                              validation_data=(val_text, val_labels),\n",
        "                              callbacks=[create_tensorboard_callback(SAVE_DIR, model_3.name)])"
      ],
      "execution_count": 43,
      "outputs": [
        {
          "output_type": "stream",
          "name": "stdout",
          "text": [
            "Saving TensorBoard log files to: model_logs/model_3_GRU/20210910-182251\n",
            "Epoch 1/5\n",
            "127/127 [==============================] - 201s 2s/step - loss: 0.3242 - accuracy: 0.8781 - val_loss: 0.3070 - val_accuracy: 0.8994\n",
            "Epoch 2/5\n",
            "127/127 [==============================] - 198s 2s/step - loss: 0.2306 - accuracy: 0.9280 - val_loss: 0.2996 - val_accuracy: 0.9024\n",
            "Epoch 3/5\n",
            "127/127 [==============================] - 194s 2s/step - loss: 0.1386 - accuracy: 0.9605 - val_loss: 0.2863 - val_accuracy: 0.9122\n",
            "Epoch 4/5\n",
            "127/127 [==============================] - 195s 2s/step - loss: 0.1529 - accuracy: 0.9598 - val_loss: 0.3752 - val_accuracy: 0.8994\n",
            "Epoch 5/5\n",
            "127/127 [==============================] - 196s 2s/step - loss: 0.0810 - accuracy: 0.9776 - val_loss: 0.4049 - val_accuracy: 0.9103\n"
          ]
        }
      ]
    },
    {
      "cell_type": "code",
      "metadata": {
        "colab": {
          "base_uri": "https://localhost:8080/"
        },
        "id": "iJMR6Gk58q3L",
        "outputId": "18d36b68-be20-48bf-aafe-809004fba67e"
      },
      "source": [
        "# Evaluate\n",
        "model_3.evaluate(val_text, val_labels)"
      ],
      "execution_count": 44,
      "outputs": [
        {
          "output_type": "stream",
          "name": "stdout",
          "text": [
            "32/32 [==============================] - 20s 628ms/step - loss: 0.4049 - accuracy: 0.9103\n"
          ]
        },
        {
          "output_type": "execute_result",
          "data": {
            "text/plain": [
              "[0.40488648414611816, 0.9102563858032227]"
            ]
          },
          "metadata": {},
          "execution_count": 44
        }
      ]
    },
    {
      "cell_type": "code",
      "metadata": {
        "colab": {
          "base_uri": "https://localhost:8080/"
        },
        "id": "Kz6HQ84k863T",
        "outputId": "b6558a91-ddb1-4bc2-a163-123be8a47ef8"
      },
      "source": [
        "# Make predictions\n",
        "model_3_pred_probs = model_3.predict(test_text)\n",
        "model_3_pred_probs[:10]"
      ],
      "execution_count": 45,
      "outputs": [
        {
          "output_type": "execute_result",
          "data": {
            "text/plain": [
              "array([[1.06724734e-07],\n",
              "       [2.97259217e-10],\n",
              "       [9.99952912e-01],\n",
              "       [9.99979019e-01],\n",
              "       [2.05062353e-03],\n",
              "       [8.38410358e-07],\n",
              "       [3.76580367e-09],\n",
              "       [1.24822269e-04],\n",
              "       [1.85560639e-05],\n",
              "       [9.99270737e-01]], dtype=float32)"
            ]
          },
          "metadata": {},
          "execution_count": 45
        }
      ]
    },
    {
      "cell_type": "code",
      "metadata": {
        "colab": {
          "base_uri": "https://localhost:8080/"
        },
        "id": "kE7TLYyT9F6t",
        "outputId": "a3124901-0ee9-443f-d0e3-a33faf97b3c2"
      },
      "source": [
        "# convert pred probs to labels\n",
        "model_3_preds = tf.squeeze(tf.round(model_3_pred_probs))\n",
        "model_3_preds[:10]"
      ],
      "execution_count": 46,
      "outputs": [
        {
          "output_type": "execute_result",
          "data": {
            "text/plain": [
              "<tf.Tensor: shape=(10,), dtype=float32, numpy=array([0., 0., 1., 1., 0., 0., 0., 0., 0., 1.], dtype=float32)>"
            ]
          },
          "metadata": {},
          "execution_count": 46
        }
      ]
    },
    {
      "cell_type": "code",
      "metadata": {
        "colab": {
          "base_uri": "https://localhost:8080/"
        },
        "id": "UYTh5Hjw9VJH",
        "outputId": "80ad80b3-2961-4ee8-a51b-aae8f8dcd7a3"
      },
      "source": [
        "# Calculate results\n",
        "model_3_results = calculate_results(test_labels, model_3_preds)\n",
        "model_3_results"
      ],
      "execution_count": 47,
      "outputs": [
        {
          "output_type": "execute_result",
          "data": {
            "text/plain": [
              "{'accuracy': 90.21310181531176,\n",
              " 'f1': 0.9021499291142007,\n",
              " 'precision': 0.9022812535476072,\n",
              " 'recall': 0.9021310181531176}"
            ]
          },
          "metadata": {},
          "execution_count": 47
        }
      ]
    },
    {
      "cell_type": "markdown",
      "metadata": {
        "id": "7nxZ3SRh9mnN"
      },
      "source": [
        "### Model 4: Bidrectional RNN"
      ]
    },
    {
      "cell_type": "code",
      "metadata": {
        "id": "CUHO1sN8CMBh"
      },
      "source": [
        "inputs = layers.Input(shape=(1,), dtype=tf.string)\n",
        "x = text_vectorizer(inputs)\n",
        "x = embedding(x)\n",
        "x = layers.Bidirectional(layers.LSTM(64, return_sequences=True))(x)\n",
        "x = layers.Bidirectional(layers.LSTM(64))(x)\n",
        "outputs = layers.Dense(1, activation=\"sigmoid\")(x)\n",
        "model_4 = tf.keras.Model(inputs, outputs, name=\"model_4_bidirectional\")"
      ],
      "execution_count": 49,
      "outputs": []
    },
    {
      "cell_type": "code",
      "metadata": {
        "colab": {
          "base_uri": "https://localhost:8080/"
        },
        "id": "-DWeP10NDxDs",
        "outputId": "61ce4bc4-a3b2-4071-cd4f-7d8850474913"
      },
      "source": [
        "model_4.summary()"
      ],
      "execution_count": 50,
      "outputs": [
        {
          "output_type": "stream",
          "name": "stdout",
          "text": [
            "Model: \"model_4_bidirectional\"\n",
            "_________________________________________________________________\n",
            "Layer (type)                 Output Shape              Param #   \n",
            "=================================================================\n",
            "input_5 (InputLayer)         [(None, 1)]               0         \n",
            "_________________________________________________________________\n",
            "text_vectorization (TextVect (None, None)              0         \n",
            "_________________________________________________________________\n",
            "embedding (Embedding)        (None, None, 128)         11971968  \n",
            "_________________________________________________________________\n",
            "bidirectional_2 (Bidirection (None, None, 128)         98816     \n",
            "_________________________________________________________________\n",
            "bidirectional_3 (Bidirection (None, 128)               98816     \n",
            "_________________________________________________________________\n",
            "dense_6 (Dense)              (None, 1)                 129       \n",
            "=================================================================\n",
            "Total params: 12,169,729\n",
            "Trainable params: 12,169,729\n",
            "Non-trainable params: 0\n",
            "_________________________________________________________________\n"
          ]
        }
      ]
    },
    {
      "cell_type": "code",
      "metadata": {
        "colab": {
          "base_uri": "https://localhost:8080/"
        },
        "id": "vXMIBG_ID3Kz",
        "outputId": "c1637d6f-7bfa-4ade-8fc2-1f531742cc51"
      },
      "source": [
        "# Compile\n",
        "model_4.compile(loss=tf.keras.losses.BinaryCrossentropy(),\n",
        "                optimizer=tf.keras.optimizers.Adam(),\n",
        "                metrics=[\"accuracy\"])\n",
        "\n",
        "# Fit\n",
        "model_4_history = model_4.fit(train_text,\n",
        "                              train_labels,\n",
        "                              epochs=10,\n",
        "                              validation_data=(val_text, val_labels),\n",
        "                              callbacks=[create_tensorboard_callback(SAVE_DIR, model_4.name)])"
      ],
      "execution_count": 52,
      "outputs": [
        {
          "output_type": "stream",
          "name": "stdout",
          "text": [
            "Saving TensorBoard log files to: model_logs/model_4_bidirectional/20210910-185659\n",
            "Epoch 1/10\n",
            "127/127 [==============================] - 209s 2s/step - loss: 0.2115 - accuracy: 0.9216 - val_loss: 0.3079 - val_accuracy: 0.8895\n",
            "Epoch 2/10\n",
            "127/127 [==============================] - 197s 2s/step - loss: 0.1314 - accuracy: 0.9558 - val_loss: 0.2364 - val_accuracy: 0.9152\n",
            "Epoch 3/10\n",
            "127/127 [==============================] - 201s 2s/step - loss: 0.0688 - accuracy: 0.9753 - val_loss: 0.2065 - val_accuracy: 0.9339\n",
            "Epoch 4/10\n",
            "127/127 [==============================] - 202s 2s/step - loss: 0.0150 - accuracy: 0.9958 - val_loss: 0.2511 - val_accuracy: 0.9310\n",
            "Epoch 5/10\n",
            "127/127 [==============================] - 202s 2s/step - loss: 0.0175 - accuracy: 0.9933 - val_loss: 0.2573 - val_accuracy: 0.9408\n",
            "Epoch 6/10\n",
            "127/127 [==============================] - 205s 2s/step - loss: 0.0559 - accuracy: 0.9805 - val_loss: 0.2072 - val_accuracy: 0.9310\n",
            "Epoch 7/10\n",
            "127/127 [==============================] - 205s 2s/step - loss: 0.0088 - accuracy: 0.9973 - val_loss: 0.2546 - val_accuracy: 0.9369\n",
            "Epoch 8/10\n",
            "127/127 [==============================] - 201s 2s/step - loss: 0.0031 - accuracy: 0.9988 - val_loss: 0.2658 - val_accuracy: 0.9369\n",
            "Epoch 9/10\n",
            "127/127 [==============================] - 203s 2s/step - loss: 0.0015 - accuracy: 1.0000 - val_loss: 0.2414 - val_accuracy: 0.9438\n",
            "Epoch 10/10\n",
            "127/127 [==============================] - 203s 2s/step - loss: 6.9824e-04 - accuracy: 1.0000 - val_loss: 0.2857 - val_accuracy: 0.9398\n"
          ]
        }
      ]
    },
    {
      "cell_type": "code",
      "metadata": {
        "colab": {
          "base_uri": "https://localhost:8080/"
        },
        "id": "CsjyddTsEZLl",
        "outputId": "521f54b6-4c49-4378-e173-6ca5cc38a077"
      },
      "source": [
        "# Evaluate\n",
        "model_4.evaluate(val_text, val_labels)"
      ],
      "execution_count": 53,
      "outputs": [
        {
          "output_type": "stream",
          "name": "stdout",
          "text": [
            "32/32 [==============================] - 18s 558ms/step - loss: 0.2857 - accuracy: 0.9398\n"
          ]
        },
        {
          "output_type": "execute_result",
          "data": {
            "text/plain": [
              "[0.2857382595539093, 0.9398422241210938]"
            ]
          },
          "metadata": {},
          "execution_count": 53
        }
      ]
    },
    {
      "cell_type": "code",
      "metadata": {
        "colab": {
          "base_uri": "https://localhost:8080/"
        },
        "id": "jhvTk3n-ElKT",
        "outputId": "79353da9-d99f-4ac7-8413-b906a1712ba1"
      },
      "source": [
        "# Predict\n",
        "model_4_pred_probs = model_4.predict(test_text)\n",
        "model_4_pred_probs[:10]"
      ],
      "execution_count": 54,
      "outputs": [
        {
          "output_type": "execute_result",
          "data": {
            "text/plain": [
              "array([[1.8369472e-03],\n",
              "       [1.0803802e-04],\n",
              "       [2.1726872e-01],\n",
              "       [9.9976021e-01],\n",
              "       [2.6254705e-04],\n",
              "       [1.6407511e-04],\n",
              "       [9.4684155e-04],\n",
              "       [9.9684036e-01],\n",
              "       [3.5865422e-04],\n",
              "       [9.9978393e-01]], dtype=float32)"
            ]
          },
          "metadata": {},
          "execution_count": 54
        }
      ]
    },
    {
      "cell_type": "code",
      "metadata": {
        "colab": {
          "base_uri": "https://localhost:8080/"
        },
        "id": "7dldEl2MEtFY",
        "outputId": "f07f55fb-efb1-413e-efd5-d144a32d8a5a"
      },
      "source": [
        "# convert pred probs to labels\n",
        "model_4_preds = tf.squeeze(tf.round(model_4_pred_probs))\n",
        "model_4_preds[:10]"
      ],
      "execution_count": 55,
      "outputs": [
        {
          "output_type": "execute_result",
          "data": {
            "text/plain": [
              "<tf.Tensor: shape=(10,), dtype=float32, numpy=array([0., 0., 0., 1., 0., 0., 0., 1., 0., 1.], dtype=float32)>"
            ]
          },
          "metadata": {},
          "execution_count": 55
        }
      ]
    },
    {
      "cell_type": "code",
      "metadata": {
        "colab": {
          "base_uri": "https://localhost:8080/"
        },
        "id": "cUDIYBdCE7oB",
        "outputId": "d6df7e1e-3e71-4968-e362-3fbad10eab68"
      },
      "source": [
        "# Calculate results\n",
        "model_4_results = calculate_results(test_labels, model_4_preds)\n",
        "model_4_results"
      ],
      "execution_count": 66,
      "outputs": [
        {
          "output_type": "execute_result",
          "data": {
            "text/plain": [
              "{'accuracy': 91.4759273875296,\n",
              " 'f1': 0.9146943414553974,\n",
              " 'precision': 0.9150869218850611,\n",
              " 'recall': 0.914759273875296}"
            ]
          },
          "metadata": {},
          "execution_count": 66
        }
      ]
    },
    {
      "cell_type": "markdown",
      "metadata": {
        "id": "md7dUhmjFFQp"
      },
      "source": [
        "### Model 5: Conv1D"
      ]
    },
    {
      "cell_type": "code",
      "metadata": {
        "id": "qw0rNeOjK9m4"
      },
      "source": [
        "inputs = layers.Input(shape=(1,), dtype=tf.string)\n",
        "x = text_vectorizer(inputs)\n",
        "x = embedding(x)\n",
        "x = layers.Conv1D(filters=64, kernel_size=5, strides=1, activation=\"relu\", padding=\"valid\")(x)\n",
        "x = layers.GlobalAveragePooling1D()(x)\n",
        "outputs = layers.Dense(1, activation=\"sigmoid\")(x)\n",
        "model_5 = tf.keras.Model(inputs, outputs, name=\"model_5_Conv1D\")"
      ],
      "execution_count": 58,
      "outputs": []
    },
    {
      "cell_type": "code",
      "metadata": {
        "colab": {
          "base_uri": "https://localhost:8080/"
        },
        "id": "YoS90FqtLw-V",
        "outputId": "20733b9d-b189-4f4e-8387-8a642cc4717c"
      },
      "source": [
        "model_5.summary()"
      ],
      "execution_count": 59,
      "outputs": [
        {
          "output_type": "stream",
          "name": "stdout",
          "text": [
            "Model: \"model_5_Conv1D\"\n",
            "_________________________________________________________________\n",
            "Layer (type)                 Output Shape              Param #   \n",
            "=================================================================\n",
            "input_7 (InputLayer)         [(None, 1)]               0         \n",
            "_________________________________________________________________\n",
            "text_vectorization (TextVect (None, None)              0         \n",
            "_________________________________________________________________\n",
            "embedding (Embedding)        (None, None, 128)         11971968  \n",
            "_________________________________________________________________\n",
            "conv1d (Conv1D)              (None, None, 64)          41024     \n",
            "_________________________________________________________________\n",
            "global_average_pooling1d_2 ( (None, 64)                0         \n",
            "_________________________________________________________________\n",
            "dense_7 (Dense)              (None, 1)                 65        \n",
            "=================================================================\n",
            "Total params: 12,013,057\n",
            "Trainable params: 12,013,057\n",
            "Non-trainable params: 0\n",
            "_________________________________________________________________\n"
          ]
        }
      ]
    },
    {
      "cell_type": "code",
      "metadata": {
        "colab": {
          "base_uri": "https://localhost:8080/"
        },
        "id": "rKIZtc7kLzid",
        "outputId": "189f625a-557c-424a-9503-c45ae68520ef"
      },
      "source": [
        "# Compile\n",
        "model_5.compile(loss=tf.keras.losses.BinaryCrossentropy(),\n",
        "                optimizer=tf.keras.optimizers.Adam(),\n",
        "                metrics=[\"accuracy\"])\n",
        "\n",
        "# Fit\n",
        "model_5_history = model_5.fit(train_text,\n",
        "                              train_labels,\n",
        "                              epochs=10,\n",
        "                              validation_data=(val_text, val_labels),\n",
        "                              callbacks=[create_tensorboard_callback(SAVE_DIR, model_5.name)])"
      ],
      "execution_count": 65,
      "outputs": [
        {
          "output_type": "stream",
          "name": "stdout",
          "text": [
            "Saving TensorBoard log files to: model_logs/model_5_Conv1D/20210910-193612\n",
            "Epoch 1/10\n",
            "127/127 [==============================] - 50s 294ms/step - loss: 0.3264 - accuracy: 0.8920 - val_loss: 0.2657 - val_accuracy: 0.9112\n",
            "Epoch 2/10\n",
            "127/127 [==============================] - 17s 133ms/step - loss: 0.1791 - accuracy: 0.9309 - val_loss: 0.2355 - val_accuracy: 0.9142\n",
            "Epoch 3/10\n",
            "127/127 [==============================] - 12s 97ms/step - loss: 0.1425 - accuracy: 0.9566 - val_loss: 0.2284 - val_accuracy: 0.9221\n",
            "Epoch 4/10\n",
            "127/127 [==============================] - 10s 80ms/step - loss: 0.1110 - accuracy: 0.9628 - val_loss: 0.2332 - val_accuracy: 0.9329\n",
            "Epoch 5/10\n",
            "127/127 [==============================] - 11s 89ms/step - loss: 0.0912 - accuracy: 0.9743 - val_loss: 0.2628 - val_accuracy: 0.9320\n",
            "Epoch 6/10\n",
            "127/127 [==============================] - 9s 71ms/step - loss: 0.0761 - accuracy: 0.9820 - val_loss: 0.2706 - val_accuracy: 0.9339\n",
            "Epoch 7/10\n",
            "127/127 [==============================] - 9s 70ms/step - loss: 0.0622 - accuracy: 0.9859 - val_loss: 0.2691 - val_accuracy: 0.9369\n",
            "Epoch 8/10\n",
            "127/127 [==============================] - 9s 70ms/step - loss: 0.0542 - accuracy: 0.9904 - val_loss: 0.3230 - val_accuracy: 0.9320\n",
            "Epoch 9/10\n",
            "127/127 [==============================] - 9s 67ms/step - loss: 0.0463 - accuracy: 0.9941 - val_loss: 0.3447 - val_accuracy: 0.9369\n",
            "Epoch 10/10\n",
            "127/127 [==============================] - 9s 67ms/step - loss: 0.0394 - accuracy: 0.9963 - val_loss: 0.3604 - val_accuracy: 0.9369\n"
          ]
        }
      ]
    },
    {
      "cell_type": "code",
      "metadata": {
        "colab": {
          "base_uri": "https://localhost:8080/"
        },
        "id": "orIj9nWqMX28",
        "outputId": "417ecbf3-d8a4-4560-e1c9-ff4555229189"
      },
      "source": [
        "model_5.summary()"
      ],
      "execution_count": 67,
      "outputs": [
        {
          "output_type": "stream",
          "name": "stdout",
          "text": [
            "Model: \"model_5_Conv1D\"\n",
            "_________________________________________________________________\n",
            "Layer (type)                 Output Shape              Param #   \n",
            "=================================================================\n",
            "input_7 (InputLayer)         [(None, 1)]               0         \n",
            "_________________________________________________________________\n",
            "text_vectorization (TextVect (None, None)              0         \n",
            "_________________________________________________________________\n",
            "embedding (Embedding)        (None, None, 128)         11971968  \n",
            "_________________________________________________________________\n",
            "conv1d (Conv1D)              (None, None, 64)          41024     \n",
            "_________________________________________________________________\n",
            "global_average_pooling1d_2 ( (None, 64)                0         \n",
            "_________________________________________________________________\n",
            "dense_7 (Dense)              (None, 1)                 65        \n",
            "=================================================================\n",
            "Total params: 12,013,057\n",
            "Trainable params: 12,013,057\n",
            "Non-trainable params: 0\n",
            "_________________________________________________________________\n"
          ]
        }
      ]
    },
    {
      "cell_type": "code",
      "metadata": {
        "colab": {
          "base_uri": "https://localhost:8080/"
        },
        "id": "vg39tBlyOFRm",
        "outputId": "9e6eb0a0-ca4d-487f-c3ab-5159db946b8b"
      },
      "source": [
        "# Evaluate\n",
        "model_5.evaluate(val_text, val_labels)"
      ],
      "execution_count": 68,
      "outputs": [
        {
          "output_type": "stream",
          "name": "stdout",
          "text": [
            "32/32 [==============================] - 1s 21ms/step - loss: 0.3604 - accuracy: 0.9369\n"
          ]
        },
        {
          "output_type": "execute_result",
          "data": {
            "text/plain": [
              "[0.36043357849121094, 0.9368836283683777]"
            ]
          },
          "metadata": {},
          "execution_count": 68
        }
      ]
    },
    {
      "cell_type": "code",
      "metadata": {
        "colab": {
          "base_uri": "https://localhost:8080/"
        },
        "id": "PZ-EBrQ_OL-j",
        "outputId": "ff22c8d4-553a-4c1a-e341-ffb572cb05d9"
      },
      "source": [
        "# Make predictions\n",
        "model_5_pred_probs = model_5.predict(test_text)\n",
        "model_5_pred_probs[:10]"
      ],
      "execution_count": 69,
      "outputs": [
        {
          "output_type": "execute_result",
          "data": {
            "text/plain": [
              "array([[1.2274758e-03],\n",
              "       [2.0683336e-12],\n",
              "       [1.0000000e+00],\n",
              "       [1.0000000e+00],\n",
              "       [2.1377999e-02],\n",
              "       [1.2481388e-06],\n",
              "       [6.6686452e-12],\n",
              "       [9.2803699e-01],\n",
              "       [1.5599751e-06],\n",
              "       [9.9999726e-01]], dtype=float32)"
            ]
          },
          "metadata": {},
          "execution_count": 69
        }
      ]
    },
    {
      "cell_type": "code",
      "metadata": {
        "colab": {
          "base_uri": "https://localhost:8080/"
        },
        "id": "TsnPtzbqOXv8",
        "outputId": "f184c9cd-beed-4e2c-d7c5-74680f658ec5"
      },
      "source": [
        "# Convert preds to labels\n",
        "model_5_preds = tf.squeeze(tf.round(model_5_pred_probs))\n",
        "model_5_preds[:10]"
      ],
      "execution_count": 70,
      "outputs": [
        {
          "output_type": "execute_result",
          "data": {
            "text/plain": [
              "<tf.Tensor: shape=(10,), dtype=float32, numpy=array([0., 0., 1., 1., 0., 0., 0., 1., 0., 1.], dtype=float32)>"
            ]
          },
          "metadata": {},
          "execution_count": 70
        }
      ]
    },
    {
      "cell_type": "code",
      "metadata": {
        "colab": {
          "base_uri": "https://localhost:8080/"
        },
        "id": "zj4fuKD3OhFW",
        "outputId": "6c3a2422-abd2-4512-9129-5fe8847bf802"
      },
      "source": [
        "# Calculate results\n",
        "model_5_results = calculate_results(test_labels, model_5_preds)\n",
        "model_5_results"
      ],
      "execution_count": 71,
      "outputs": [
        {
          "output_type": "execute_result",
          "data": {
            "text/plain": [
              "{'accuracy': 93.84372533543804,\n",
              " 'f1': 0.9384517562201082,\n",
              " 'precision': 0.9386954327053192,\n",
              " 'recall': 0.9384372533543804}"
            ]
          },
          "metadata": {},
          "execution_count": 71
        }
      ]
    },
    {
      "cell_type": "markdown",
      "metadata": {
        "id": "E79LHmIuOqXU"
      },
      "source": [
        "### Model 6: TensorFlow Hub Pretrained Sentence Encoder"
      ]
    },
    {
      "cell_type": "code",
      "metadata": {
        "id": "JdLQdWTOO7T0"
      },
      "source": [
        "sentence_encoder_layer = hub.KerasLayer(\"https://tfhub.dev/google/universal-sentence-encoder/4\",\n",
        "                                        input_shape=[],\n",
        "                                        dtype=tf.string,\n",
        "                                        name=\"USE\")\n"
      ],
      "execution_count": 73,
      "outputs": []
    },
    {
      "cell_type": "code",
      "metadata": {
        "id": "iSR34EfVPds7"
      },
      "source": [
        "# Use Sequential API\n",
        "model_6 = tf.keras.Sequential([\n",
        "  sentence_encoder_layer,\n",
        "  layers.Dense(128, activation=\"relu\"),\n",
        "  layers.Dense(1, activation=\"sigmoid\", name=\"output_layer\")\n",
        "], name=\"model_6_USE\")"
      ],
      "execution_count": 74,
      "outputs": []
    },
    {
      "cell_type": "code",
      "metadata": {
        "colab": {
          "base_uri": "https://localhost:8080/"
        },
        "id": "Ea5Xf3XLP_24",
        "outputId": "58dca352-a89b-4f3e-9f19-baa4b9c99c21"
      },
      "source": [
        "model_6.summary()"
      ],
      "execution_count": 75,
      "outputs": [
        {
          "output_type": "stream",
          "name": "stdout",
          "text": [
            "Model: \"model_6_USE\"\n",
            "_________________________________________________________________\n",
            "Layer (type)                 Output Shape              Param #   \n",
            "=================================================================\n",
            "USE (KerasLayer)             (None, 512)               256797824 \n",
            "_________________________________________________________________\n",
            "dense_8 (Dense)              (None, 128)               65664     \n",
            "_________________________________________________________________\n",
            "output_layer (Dense)         (None, 1)                 129       \n",
            "=================================================================\n",
            "Total params: 256,863,617\n",
            "Trainable params: 65,793\n",
            "Non-trainable params: 256,797,824\n",
            "_________________________________________________________________\n"
          ]
        }
      ]
    },
    {
      "cell_type": "code",
      "metadata": {
        "colab": {
          "base_uri": "https://localhost:8080/"
        },
        "id": "pqsUKMfnQBhH",
        "outputId": "6c2733c1-69ba-44ce-94ab-34ff8873af9b"
      },
      "source": [
        "# Compile\n",
        "model_6.compile(loss=tf.keras.losses.BinaryCrossentropy(),\n",
        "                optimizer=tf.keras.optimizers.Adam(),\n",
        "                metrics=[\"accuracy\"])\n",
        "\n",
        "# Fit \n",
        "model_6_history = model_6.fit(train_text,\n",
        "                              train_labels,\n",
        "                              epochs=10,\n",
        "                              validation_data=(val_text, val_labels),\n",
        "                              callbacks=[create_tensorboard_callback(SAVE_DIR, model_6.name)])"
      ],
      "execution_count": 76,
      "outputs": [
        {
          "output_type": "stream",
          "name": "stdout",
          "text": [
            "Saving TensorBoard log files to: model_logs/model_6_USE/20210910-194959\n",
            "Epoch 1/10\n",
            "127/127 [==============================] - 29s 208ms/step - loss: 0.4733 - accuracy: 0.8091 - val_loss: 0.3386 - val_accuracy: 0.8590\n",
            "Epoch 2/10\n",
            "127/127 [==============================] - 24s 192ms/step - loss: 0.3158 - accuracy: 0.8688 - val_loss: 0.3036 - val_accuracy: 0.8757\n",
            "Epoch 3/10\n",
            "127/127 [==============================] - 25s 192ms/step - loss: 0.2800 - accuracy: 0.8851 - val_loss: 0.2864 - val_accuracy: 0.8826\n",
            "Epoch 4/10\n",
            "127/127 [==============================] - 25s 197ms/step - loss: 0.2626 - accuracy: 0.8934 - val_loss: 0.2790 - val_accuracy: 0.8807\n",
            "Epoch 5/10\n",
            "127/127 [==============================] - 25s 199ms/step - loss: 0.2543 - accuracy: 0.8962 - val_loss: 0.2764 - val_accuracy: 0.8807\n",
            "Epoch 6/10\n",
            "127/127 [==============================] - 24s 192ms/step - loss: 0.2430 - accuracy: 0.8996 - val_loss: 0.2863 - val_accuracy: 0.8856\n",
            "Epoch 7/10\n",
            "127/127 [==============================] - 25s 197ms/step - loss: 0.2317 - accuracy: 0.9100 - val_loss: 0.2755 - val_accuracy: 0.8817\n",
            "Epoch 8/10\n",
            "127/127 [==============================] - 25s 196ms/step - loss: 0.2258 - accuracy: 0.9127 - val_loss: 0.2754 - val_accuracy: 0.8787\n",
            "Epoch 9/10\n",
            "127/127 [==============================] - 24s 186ms/step - loss: 0.2189 - accuracy: 0.9137 - val_loss: 0.2794 - val_accuracy: 0.8777\n",
            "Epoch 10/10\n",
            "127/127 [==============================] - 24s 191ms/step - loss: 0.2134 - accuracy: 0.9132 - val_loss: 0.2679 - val_accuracy: 0.8856\n"
          ]
        }
      ]
    },
    {
      "cell_type": "code",
      "metadata": {
        "colab": {
          "base_uri": "https://localhost:8080/"
        },
        "id": "2kX_OY_nQnDy",
        "outputId": "57687dbb-5e16-4825-c1ff-3c66483b4268"
      },
      "source": [
        "# Evaluate\n",
        "model_6.evaluate(val_text, val_labels)"
      ],
      "execution_count": 77,
      "outputs": [
        {
          "output_type": "stream",
          "name": "stdout",
          "text": [
            "32/32 [==============================] - 4s 136ms/step - loss: 0.2679 - accuracy: 0.8856\n"
          ]
        },
        {
          "output_type": "execute_result",
          "data": {
            "text/plain": [
              "[0.26793143153190613, 0.8856015801429749]"
            ]
          },
          "metadata": {},
          "execution_count": 77
        }
      ]
    },
    {
      "cell_type": "code",
      "metadata": {
        "colab": {
          "base_uri": "https://localhost:8080/"
        },
        "id": "UstCXyC-R2EW",
        "outputId": "3e609a9d-176f-43d4-b792-b294377d53d2"
      },
      "source": [
        "# Make predictions\n",
        "model_6_pred_probs = model_6.predict(test_text)\n",
        "model_6_pred_probs[:10]"
      ],
      "execution_count": 78,
      "outputs": [
        {
          "output_type": "execute_result",
          "data": {
            "text/plain": [
              "array([[5.8195770e-01],\n",
              "       [5.9901619e-01],\n",
              "       [4.2517787e-01],\n",
              "       [9.9965727e-01],\n",
              "       [3.8975500e-02],\n",
              "       [3.4103677e-02],\n",
              "       [3.3334628e-02],\n",
              "       [6.8482614e-01],\n",
              "       [6.9701101e-04],\n",
              "       [9.5018762e-01]], dtype=float32)"
            ]
          },
          "metadata": {},
          "execution_count": 78
        }
      ]
    },
    {
      "cell_type": "code",
      "metadata": {
        "colab": {
          "base_uri": "https://localhost:8080/"
        },
        "id": "kwG5VTk9SL82",
        "outputId": "987a15af-7cb0-4e85-b4e6-22e658b08b9b"
      },
      "source": [
        "# Convert preds to labels\n",
        "model_6_preds = tf.squeeze(tf.round(model_6_pred_probs))\n",
        "model_6_preds[:10]"
      ],
      "execution_count": 79,
      "outputs": [
        {
          "output_type": "execute_result",
          "data": {
            "text/plain": [
              "<tf.Tensor: shape=(10,), dtype=float32, numpy=array([1., 1., 0., 1., 0., 0., 0., 1., 0., 1.], dtype=float32)>"
            ]
          },
          "metadata": {},
          "execution_count": 79
        }
      ]
    },
    {
      "cell_type": "code",
      "metadata": {
        "colab": {
          "base_uri": "https://localhost:8080/"
        },
        "id": "ijl4VkTvSVVG",
        "outputId": "d322d4c7-722c-4fcf-ccd4-0a3d5fe84ce7"
      },
      "source": [
        "# Calculate results\n",
        "model_6_results = calculate_results(test_labels, model_6_preds)\n",
        "model_6_results"
      ],
      "execution_count": 80,
      "outputs": [
        {
          "output_type": "execute_result",
          "data": {
            "text/plain": [
              "{'accuracy': 88.39779005524862,\n",
              " 'f1': 0.8839748616674193,\n",
              " 'precision': 0.8839729250619456,\n",
              " 'recall': 0.8839779005524862}"
            ]
          },
          "metadata": {},
          "execution_count": 80
        }
      ]
    },
    {
      "cell_type": "markdown",
      "metadata": {
        "id": "omrnXE0NSfV0"
      },
      "source": [
        "## Compare model performance"
      ]
    },
    {
      "cell_type": "code",
      "metadata": {
        "colab": {
          "base_uri": "https://localhost:8080/",
          "height": 265
        },
        "id": "FS_mU18YS6rC",
        "outputId": "294ac819-ff80-4485-e684-27269b15f826"
      },
      "source": [
        "# Combine model results into a DataFrame\n",
        "all_model_results = pd.DataFrame({\"0_baseline\": baseline_results,\n",
        "                                  \"1_simple_dense\": model_1_results,\n",
        "                                  \"2_lstm\":  model_2_results,\n",
        "                                  \"3_gru\": model_3_results,\n",
        "                                  \"4_bidirectional\": model_4_results,\n",
        "                                  \"5_conv1d\": model_5_results,\n",
        "                                  \"6_tf_hub_use_encoder\": model_6_results})\n",
        "\n",
        "all_model_results = all_model_results.transpose()\n",
        "all_model_results"
      ],
      "execution_count": 81,
      "outputs": [
        {
          "output_type": "execute_result",
          "data": {
            "text/html": [
              "<div>\n",
              "<style scoped>\n",
              "    .dataframe tbody tr th:only-of-type {\n",
              "        vertical-align: middle;\n",
              "    }\n",
              "\n",
              "    .dataframe tbody tr th {\n",
              "        vertical-align: top;\n",
              "    }\n",
              "\n",
              "    .dataframe thead th {\n",
              "        text-align: right;\n",
              "    }\n",
              "</style>\n",
              "<table border=\"1\" class=\"dataframe\">\n",
              "  <thead>\n",
              "    <tr style=\"text-align: right;\">\n",
              "      <th></th>\n",
              "      <th>accuracy</th>\n",
              "      <th>precision</th>\n",
              "      <th>recall</th>\n",
              "      <th>f1</th>\n",
              "    </tr>\n",
              "  </thead>\n",
              "  <tbody>\n",
              "    <tr>\n",
              "      <th>0_baseline</th>\n",
              "      <td>80.189424</td>\n",
              "      <td>0.847712</td>\n",
              "      <td>0.801894</td>\n",
              "      <td>0.793629</td>\n",
              "    </tr>\n",
              "    <tr>\n",
              "      <th>1_simple_dense</th>\n",
              "      <td>84.925020</td>\n",
              "      <td>0.866203</td>\n",
              "      <td>0.849250</td>\n",
              "      <td>0.848095</td>\n",
              "    </tr>\n",
              "    <tr>\n",
              "      <th>2_lstm</th>\n",
              "      <td>52.091555</td>\n",
              "      <td>0.613357</td>\n",
              "      <td>0.520916</td>\n",
              "      <td>0.367312</td>\n",
              "    </tr>\n",
              "    <tr>\n",
              "      <th>3_gru</th>\n",
              "      <td>90.213102</td>\n",
              "      <td>0.902281</td>\n",
              "      <td>0.902131</td>\n",
              "      <td>0.902150</td>\n",
              "    </tr>\n",
              "    <tr>\n",
              "      <th>4_bidirectional</th>\n",
              "      <td>91.475927</td>\n",
              "      <td>0.915087</td>\n",
              "      <td>0.914759</td>\n",
              "      <td>0.914694</td>\n",
              "    </tr>\n",
              "    <tr>\n",
              "      <th>5_conv1d</th>\n",
              "      <td>93.843725</td>\n",
              "      <td>0.938695</td>\n",
              "      <td>0.938437</td>\n",
              "      <td>0.938452</td>\n",
              "    </tr>\n",
              "    <tr>\n",
              "      <th>6_tf_hub_use_encoder</th>\n",
              "      <td>88.397790</td>\n",
              "      <td>0.883973</td>\n",
              "      <td>0.883978</td>\n",
              "      <td>0.883975</td>\n",
              "    </tr>\n",
              "  </tbody>\n",
              "</table>\n",
              "</div>"
            ],
            "text/plain": [
              "                       accuracy  precision    recall        f1\n",
              "0_baseline            80.189424   0.847712  0.801894  0.793629\n",
              "1_simple_dense        84.925020   0.866203  0.849250  0.848095\n",
              "2_lstm                52.091555   0.613357  0.520916  0.367312\n",
              "3_gru                 90.213102   0.902281  0.902131  0.902150\n",
              "4_bidirectional       91.475927   0.915087  0.914759  0.914694\n",
              "5_conv1d              93.843725   0.938695  0.938437  0.938452\n",
              "6_tf_hub_use_encoder  88.397790   0.883973  0.883978  0.883975"
            ]
          },
          "metadata": {},
          "execution_count": 81
        }
      ]
    },
    {
      "cell_type": "code",
      "metadata": {
        "id": "fZ9WTzmHTnZP"
      },
      "source": [
        "# Match accuracy to other metrics\n",
        "all_model_results[\"accuracy\"] = all_model_results[\"accuracy\"]/100"
      ],
      "execution_count": 82,
      "outputs": []
    },
    {
      "cell_type": "code",
      "metadata": {
        "colab": {
          "base_uri": "https://localhost:8080/",
          "height": 530
        },
        "id": "_4w9y3j7T1Za",
        "outputId": "101cc48f-bb7c-40bf-bc09-f9ba923d28a5"
      },
      "source": [
        "# Plot and compare results\n",
        "all_model_results.plot(kind=\"bar\", figsize=(10, 7)).legend(bbox_to_anchor=(1.0, 1.0));"
      ],
      "execution_count": 84,
      "outputs": [
        {
          "output_type": "display_data",
          "data": {
            "image/png": "[encoded data removed]",
            "text/plain": [
              "<Figure size 720x504 with 1 Axes>"
            ]
          },
          "metadata": {
            "needs_background": "light"
          }
        }
      ]
    },
    {
      "cell_type": "code",
      "metadata": {
        "colab": {
          "base_uri": "https://localhost:8080/",
          "height": 530
        },
        "id": "oeRF6Z8XUC5d",
        "outputId": "fd25810c-f221-499b-c7c3-6cc5e4eab2d0"
      },
      "source": [
        "# Sort by f1\n",
        "all_model_results.sort_values(\"f1\", ascending=False)[\"f1\"].plot(kind=\"bar\", figsize=(10,7));"
      ],
      "execution_count": 86,
      "outputs": [
        {
          "output_type": "display_data",
          "data": {
            "image/png": "[encoded data removed]",
            "text/plain": [
              "<Figure size 720x504 with 1 Axes>"
            ]
          },
          "metadata": {
            "needs_background": "light"
          }
        }
      ]
    },
    {
      "cell_type": "code",
      "metadata": {
        "id": "0H3ghfRHUcNr"
      },
      "source": [
        ""
      ],
      "execution_count": null,
      "outputs": []
    }
  ]
}